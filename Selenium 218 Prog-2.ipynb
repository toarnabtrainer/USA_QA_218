{
 "cells": [
  {
   "cell_type": "markdown",
   "id": "c929f494-9576-4ada-bb67-5d582893e321",
   "metadata": {},
   "source": [
    "## Selenium Code Example - 2"
   ]
  },
  {
   "cell_type": "markdown",
   "id": "405ede5a-dc6c-49f6-89cc-73681a41c910",
   "metadata": {},
   "source": [
    "### Selenium control options to write text, button press, select menu and others"
   ]
  },
  {
   "cell_type": "code",
   "execution_count": 1,
   "id": "6681e7bd-19af-45d9-8feb-c109740dee06",
   "metadata": {},
   "outputs": [],
   "source": [
    "# importing all required modules\n",
    "from selenium import webdriver\n",
    "from selenium.webdriver.chrome.service import Service"
   ]
  },
  {
   "cell_type": "code",
   "execution_count": 2,
   "id": "ebd23f68-c322-447e-b041-9d7bac9173e2",
   "metadata": {},
   "outputs": [
    {
     "name": "stdout",
     "output_type": "stream",
     "text": [
      "4.10.0\n"
     ]
    }
   ],
   "source": [
    "# also to check the current version fo the webdriver\n",
    "print (webdriver.__version__)"
   ]
  },
  {
   "cell_type": "code",
   "execution_count": 3,
   "id": "ab965d2d-76b8-472b-9075-0e5c4ae817f5",
   "metadata": {},
   "outputs": [],
   "source": [
    "# Now openning a new chrome instance\n",
    "service = Service(executable_path=\"./chromedriver.exe\")\n",
    "options = webdriver.ChromeOptions()\n",
    "driver = webdriver.Chrome(service=service, options=options)"
   ]
  },
  {
   "cell_type": "code",
   "execution_count": 4,
   "id": "a68303be-4545-4615-91be-c0bec511d640",
   "metadata": {},
   "outputs": [],
   "source": [
    "# open the web portal to calculate nCr operations\n",
    "URL = \"https://www.calculatorsoup.com/calculators/discretemathematics/combinations.php\"\n",
    "driver.get(URL)"
   ]
  },
  {
   "cell_type": "code",
   "execution_count": 5,
   "id": "8c53deaf-3626-4dd6-b825-4351ba17be89",
   "metadata": {},
   "outputs": [],
   "source": [
    "num1 = \"10\"\n",
    "num2 = \"5\""
   ]
  },
  {
   "cell_type": "code",
   "execution_count": 6,
   "id": "16f46be1-e365-4ea4-ba9c-23b7b2d304f6",
   "metadata": {},
   "outputs": [],
   "source": [
    "n_input = driver.find_element(\"id\", \"n\")\n",
    "n_input.clear()\n",
    "n_input.send_keys(num1)"
   ]
  },
  {
   "cell_type": "code",
   "execution_count": 7,
   "id": "a9b0cb91-66a9-45ad-9e83-85975e3e5b15",
   "metadata": {},
   "outputs": [],
   "source": [
    "# r_input = driver.find_element(\"id\", \"r\")\n",
    "# r_input.clear()\n",
    "# r_input.send_keys(\"8\")"
   ]
  },
  {
   "cell_type": "code",
   "execution_count": 8,
   "id": "cdc5f663-fcea-4f63-ad4c-d82d45e953c0",
   "metadata": {},
   "outputs": [],
   "source": [
    "# to press keys, we can go to the next input area\n",
    "from selenium.webdriver.common.keys import Keys\n",
    "# press tab to go to the next input area\n",
    "n_input.send_keys(Keys.TAB)"
   ]
  },
  {
   "cell_type": "code",
   "execution_count": 9,
   "id": "b41e9162-e6b7-41a8-90ab-aa3471c589ca",
   "metadata": {},
   "outputs": [],
   "source": [
    "# select currently selected input area\n",
    "r_input = driver.switch_to.active_element"
   ]
  },
  {
   "cell_type": "code",
   "execution_count": 10,
   "id": "da972fc4-fc1f-4eb1-97b3-005527f08b99",
   "metadata": {},
   "outputs": [],
   "source": [
    "# put the r value inside the text box\n",
    "r_input.send_keys(num2)"
   ]
  },
  {
   "cell_type": "code",
   "execution_count": 11,
   "id": "2326c5d0-9a68-47ad-816d-f6e4e8235354",
   "metadata": {},
   "outputs": [],
   "source": [
    "# now go to the calculate button and click on it\n",
    "calculate_button = driver.find_element(\"id\", \"calculateButton\")\n",
    "calculate_button.click()"
   ]
  },
  {
   "cell_type": "code",
   "execution_count": 12,
   "id": "90738204-7906-4fbb-ae27-b2d50f389d10",
   "metadata": {
    "scrolled": true,
    "tags": []
   },
   "outputs": [
    {
     "name": "stdout",
     "output_type": "stream",
     "text": [
      "Answer:\n",
      "= 252\n",
      "Solution:\n",
      "C\n",
      "(\n",
      "n\n",
      ",\n",
      "r\n",
      ")\n",
      "=\n",
      "?\n",
      "C\n",
      "(\n",
      "n\n",
      ",\n",
      "r\n",
      ")\n",
      "=\n",
      "C\n",
      "(\n",
      "10\n",
      ",\n",
      "5\n",
      ")\n",
      "=\n",
      "10\n",
      "!\n",
      "(\n",
      "5\n",
      "!\n",
      "(\n",
      "10\n",
      "−\n",
      "5\n",
      ")\n",
      "!\n",
      ")\n",
      "=\n",
      "10\n",
      "!\n",
      "5\n",
      "!\n",
      "×\n",
      "5\n",
      "!\n",
      "= 252\n"
     ]
    }
   ],
   "source": [
    "# read the answer from the result area\n",
    "result_area = driver.find_element(\"id\", \"calculatorAnswer\")\n",
    "result = result_area.text\n",
    "print (result)"
   ]
  },
  {
   "cell_type": "code",
   "execution_count": 13,
   "id": "15f0adec-cdfe-4b55-992a-13f0eea516c4",
   "metadata": {},
   "outputs": [
    {
     "name": "stdout",
     "output_type": "stream",
     "text": [
      "<class 'str'>\n"
     ]
    }
   ],
   "source": [
    "print (type(result))"
   ]
  },
  {
   "cell_type": "code",
   "execution_count": 14,
   "id": "e1f2476c-2057-47e3-a0de-f0df141f5763",
   "metadata": {},
   "outputs": [
    {
     "name": "stdout",
     "output_type": "stream",
     "text": [
      "['Answer:', '=', '252', 'Solution:', 'C', '(', 'n', ',', 'r', ')', '=', '?', 'C', '(', 'n', ',', 'r', ')', '=', 'C', '(', '10', ',', '5', ')', '=', '10', '!', '(', '5', '!', '(', '10', '−', '5', ')', '!', ')', '=', '10', '!', '5', '!', '×', '5', '!', '=', '252']\n",
      "252\n",
      "252\n"
     ]
    }
   ],
   "source": [
    "print (result.split())\n",
    "print (result.split()[2])\n",
    "calculated_value = int(result.split()[2])\n",
    "print (calculated_value)"
   ]
  },
  {
   "cell_type": "code",
   "execution_count": 15,
   "id": "fb64dc08-9e99-465d-89fd-f430f23259ca",
   "metadata": {},
   "outputs": [],
   "source": [
    "import math"
   ]
  },
  {
   "cell_type": "code",
   "execution_count": 16,
   "id": "063fbdb4-a60b-4615-934e-eae3af252736",
   "metadata": {},
   "outputs": [
    {
     "name": "stdout",
     "output_type": "stream",
     "text": [
      "252\n"
     ]
    }
   ],
   "source": [
    "calculated_value1 = math.comb(int(num1), int(num2))\n",
    "print (calculated_value1)"
   ]
  },
  {
   "cell_type": "code",
   "execution_count": 18,
   "id": "62e8b3bf-5612-4534-b20e-6e498a24d671",
   "metadata": {},
   "outputs": [
    {
     "name": "stdout",
     "output_type": "stream",
     "text": [
      "Test case has been passed...\n"
     ]
    }
   ],
   "source": [
    "if (calculated_value == calculated_value1):\n",
    "    print (\"Test case has been passed...\")\n",
    "else:\n",
    "    print (\"Test case has been failed...\")"
   ]
  },
  {
   "cell_type": "code",
   "execution_count": 19,
   "id": "b94fd398-6340-414d-8bee-9e9235659078",
   "metadata": {},
   "outputs": [],
   "source": [
    "driver.quit()"
   ]
  },
  {
   "cell_type": "code",
   "execution_count": null,
   "id": "5050bd16-6f18-4d83-95f3-9f06a99d8bfd",
   "metadata": {},
   "outputs": [],
   "source": []
  }
 ],
 "metadata": {
  "kernelspec": {
   "display_name": "Python 3 (ipykernel)",
   "language": "python",
   "name": "python3"
  },
  "language_info": {
   "codemirror_mode": {
    "name": "ipython",
    "version": 3
   },
   "file_extension": ".py",
   "mimetype": "text/x-python",
   "name": "python",
   "nbconvert_exporter": "python",
   "pygments_lexer": "ipython3",
   "version": "3.10.9"
  }
 },
 "nbformat": 4,
 "nbformat_minor": 5
}
