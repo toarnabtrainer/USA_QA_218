{
 "cells": [
  {
   "cell_type": "markdown",
   "id": "3b975eb4-a3bd-4da7-a06a-3d7d3f43ca22",
   "metadata": {},
   "source": [
    "## Selenium Code Example - 1/3"
   ]
  },
  {
   "cell_type": "markdown",
   "id": "d167990b-3a85-4694-87f5-a1c9e8895374",
   "metadata": {},
   "source": [
    "### Start Chrome Driver using executable path and start any webpage with get() function"
   ]
  },
  {
   "cell_type": "code",
   "execution_count": 1,
   "id": "3b0e5125-b531-402c-9885-a449ecfa3cb1",
   "metadata": {},
   "outputs": [],
   "source": [
    "# importing required modules\n",
    "from selenium import webdriver\n",
    "from selenium.webdriver.chrome.service import Service"
   ]
  },
  {
   "cell_type": "code",
   "execution_count": 2,
   "id": "9396e455-3c4c-4c98-b691-b23b76d938b3",
   "metadata": {},
   "outputs": [
    {
     "name": "stdout",
     "output_type": "stream",
     "text": [
      "4.10.0\n"
     ]
    }
   ],
   "source": [
    "# check the version of the selenium\n",
    "print (webdriver.__version__)"
   ]
  },
  {
   "cell_type": "code",
   "execution_count": 9,
   "id": "86375313-8c4b-4f7e-875a-e8be56fd5ca3",
   "metadata": {},
   "outputs": [],
   "source": [
    "# it has to be ensured that the webdriver.exe must exist in the same path\n",
    "service = Service(executable_path='./chromedriver.exe')\n",
    "options = webdriver.ChromeOptions()\n",
    "driver = webdriver.Chrome(service=service, options=options)"
   ]
  },
  {
   "cell_type": "code",
   "execution_count": 4,
   "id": "0bae68f8-e7c3-46bf-b176-69551d64ada9",
   "metadata": {},
   "outputs": [
    {
     "name": "stdout",
     "output_type": "stream",
     "text": [
      "https://en.wikipedia.org/wiki/Main_Page\n",
      "Wikipedia, the free encyclopedia\n"
     ]
    }
   ],
   "source": [
    "# opening wikipedia web portal\n",
    "driver.get(\"https://en.wikipedia.org/wiki/Main_Page\")\n",
    "# printing current URL and current title\n",
    "print (driver.current_url)\n",
    "print (driver.title)"
   ]
  },
  {
   "cell_type": "code",
   "execution_count": 5,
   "id": "fb15d7b2-b194-417d-bc77-1f730cc5ba9e",
   "metadata": {},
   "outputs": [
    {
     "name": "stdout",
     "output_type": "stream",
     "text": [
      "https://www.google.co.in/\n",
      "Google\n"
     ]
    }
   ],
   "source": [
    "# opening Google page\n",
    "driver.get(\"https://www.google.co.in/\")\n",
    "# printing current URL and current title\n",
    "print (driver.current_url)\n",
    "print (driver.title)"
   ]
  },
  {
   "cell_type": "code",
   "execution_count": 6,
   "id": "82e81c02-9d1c-4625-9053-134827f8936f",
   "metadata": {},
   "outputs": [
    {
     "name": "stdout",
     "output_type": "stream",
     "text": [
      "https://en.wikipedia.org/wiki/Main_Page\n",
      "Wikipedia, the free encyclopedia\n"
     ]
    }
   ],
   "source": [
    "# now clicking on the back button\n",
    "driver.back()\n",
    "# printing current URL and current title\n",
    "print (driver.current_url)\n",
    "print (driver.title)"
   ]
  },
  {
   "cell_type": "code",
   "execution_count": 7,
   "id": "65d7b4e5-96a9-4461-9a7e-6982a8300671",
   "metadata": {},
   "outputs": [
    {
     "name": "stdout",
     "output_type": "stream",
     "text": [
      "https://www.google.co.in/\n",
      "Google\n"
     ]
    }
   ],
   "source": [
    "# now clicking on the forward button\n",
    "driver.forward()\n",
    "# printing current URL and current title\n",
    "print (driver.current_url)\n",
    "print (driver.title)"
   ]
  },
  {
   "cell_type": "code",
   "execution_count": 8,
   "id": "cd5b747a-fe99-48d5-be43-785532b05b2a",
   "metadata": {},
   "outputs": [],
   "source": [
    "# close all the windows which were opened by the driver\n",
    "driver.quit()"
   ]
  },
  {
   "cell_type": "code",
   "execution_count": null,
   "id": "09d4742a-09dd-4377-85e6-b6da3f281bd6",
   "metadata": {},
   "outputs": [],
   "source": []
  }
 ],
 "metadata": {
  "kernelspec": {
   "display_name": "Python 3 (ipykernel)",
   "language": "python",
   "name": "python3"
  },
  "language_info": {
   "codemirror_mode": {
    "name": "ipython",
    "version": 3
   },
   "file_extension": ".py",
   "mimetype": "text/x-python",
   "name": "python",
   "nbconvert_exporter": "python",
   "pygments_lexer": "ipython3",
   "version": "3.10.9"
  }
 },
 "nbformat": 4,
 "nbformat_minor": 5
}
