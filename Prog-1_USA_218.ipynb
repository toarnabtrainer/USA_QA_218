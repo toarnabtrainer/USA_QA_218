{
 "cells": [
  {
   "cell_type": "markdown",
   "id": "18b1d3e9-134f-4654-bbcb-ef97dd46c83d",
   "metadata": {},
   "source": [
    "## Introduction to Python"
   ]
  },
  {
   "cell_type": "markdown",
   "id": "1d2260c9-d35f-4432-ae3c-8b3b2daabc8f",
   "metadata": {},
   "source": [
    "### Comment Lines"
   ]
  },
  {
   "cell_type": "code",
   "execution_count": null,
   "id": "2b268d9f-9dfc-45d1-905c-3291e5dec0d8",
   "metadata": {},
   "outputs": [],
   "source": [
    "# This is a comment line\n",
    "# This is another comment line\n",
    "# This is the last comment line here"
   ]
  },
  {
   "cell_type": "markdown",
   "id": "851bfa4a-f959-4e0b-bf5a-bac5e731a7de",
   "metadata": {},
   "source": [
    "### Inputs and Outputs in Python"
   ]
  },
  {
   "cell_type": "code",
   "execution_count": 2,
   "id": "14b9bb3f-35c7-4e7e-954b-b2a1e5ff6c26",
   "metadata": {},
   "outputs": [
    {
     "name": "stdin",
     "output_type": "stream",
     "text": [
      "Please enter the first number:  100\n",
      "Please enter the second number:  300\n"
     ]
    },
    {
     "name": "stdout",
     "output_type": "stream",
     "text": [
      "100 <class 'str'> 300 <class 'str'>\n",
      "100300\n",
      "End of the program...\n"
     ]
    }
   ],
   "source": [
    "num1 = input(\"Please enter the first number: \")\n",
    "num2 = input(\"Please enter the second number: \")\n",
    "print (num1, type(num1), num2, type(num2))\n",
    "result = num1 + num2\n",
    "print (result)\n",
    "print (\"End of the program...\")"
   ]
  },
  {
   "cell_type": "code",
   "execution_count": 3,
   "id": "1380e747-5540-457f-9701-a1e0b2cb87fb",
   "metadata": {},
   "outputs": [
    {
     "name": "stdin",
     "output_type": "stream",
     "text": [
      "Please enter the first number:  100\n",
      "Please enter the second number:  400\n"
     ]
    },
    {
     "name": "stdout",
     "output_type": "stream",
     "text": [
      "100 <class 'int'> 400 <class 'int'>\n",
      "500\n",
      "End of the program...\n"
     ]
    }
   ],
   "source": [
    "num1 = int(input(\"Please enter the first number: \"))\n",
    "num2 = int(input(\"Please enter the second number: \"))\n",
    "print (num1, type(num1), num2, type(num2))\n",
    "result = num1 + num2\n",
    "print (result)\n",
    "print (\"End of the program...\")"
   ]
  },
  {
   "cell_type": "code",
   "execution_count": 21,
   "id": "03572d14-b3c1-4c0e-a834-6f9953073a0b",
   "metadata": {},
   "outputs": [
    {
     "name": "stdout",
     "output_type": "stream",
     "text": [
      "So 100 + 400 = 500\n",
      "So 100 + 400 = 500\n",
      "So 100 + 400 = 500\n",
      "So 100 + 400 = 500\n",
      "So 100 + 400 = 500\n",
      "So 100 + 400 = 500\n",
      "So 100 + 400 = 500\n",
      "So 100 + 400 = 500\n",
      "So 100 + 400.000000 = 500\n",
      "So 100 +   400.00 = 500\n",
      "So 100 + 400 = 500\n"
     ]
    }
   ],
   "source": [
    "print (\"So\", num1, \"+\", num2, \"=\", result)\n",
    "print (\"So \" + str(num1) + \" + \" + str(num2) + \" = \" + str(result))\n",
    "print (\"So {} + {} = {}\".format(num1, num2, result))   # {} will be called variable place holder\n",
    "print (\"So {0} + {1} = {2}\".format(num1, num2, result))  # numbered place holder\n",
    "print (\"So {2} + {1} = {0}\".format(result, num2, num1))  # numbered place holder\n",
    "print (\"So {fn} + {sn} = {tot}\".format(fn = num1, sn = num2, tot = result))  # labelled place holder\n",
    "print (\"So {fn} + {sn} = {tot}\".format(tot = result, sn = num2, fn = num1))  # labelled place holder\n",
    "print (\"So %d + %d = %d\"%(num1, num2, result))\n",
    "print (\"So %d + %f = %d\"%(num1, num2, result))\n",
    "print (\"So %d + %8.2f = %d\"%(num1, num2, result))\n",
    "print (f\"So {num1} + {num2} = {result}\")   # smart formatting"
   ]
  },
  {
   "cell_type": "markdown",
   "id": "25713975-5a1a-452c-9841-93070d391019",
   "metadata": {},
   "source": [
    "### Operators"
   ]
  },
  {
   "cell_type": "code",
   "execution_count": 22,
   "id": "b8fbedd1-8a4e-4616-85cb-2be9b5f16a8d",
   "metadata": {},
   "outputs": [
    {
     "name": "stdout",
     "output_type": "stream",
     "text": [
      "140\n",
      "60\n",
      "4000\n",
      "2.5\n",
      "2\n",
      "100000000\n",
      "20\n"
     ]
    }
   ],
   "source": [
    "# arithmetic operators\n",
    "print (100 + 40)\n",
    "print (100 - 40)\n",
    "print (100 * 40)\n",
    "print (100 / 40)   # float fivision\n",
    "print (100 // 40)  # integer division\n",
    "print (100 ** 4)   # exponentiation\n",
    "print (100 % 40)   # remainder of the division"
   ]
  },
  {
   "cell_type": "code",
   "execution_count": 24,
   "id": "b7fbc342-1a5f-41ec-abb7-fa4908b61f00",
   "metadata": {},
   "outputs": [
    {
     "name": "stdout",
     "output_type": "stream",
     "text": [
      "False True True\n"
     ]
    }
   ],
   "source": [
    "# relational operators: >, >=, <, <=, !=, ==\n",
    "print (100 >= 200, 100 <= 200, 100 != 200)"
   ]
  },
  {
   "cell_type": "code",
   "execution_count": 28,
   "id": "02ba983c-1c81-4993-9679-1e5cc6b8b194",
   "metadata": {},
   "outputs": [
    {
     "name": "stdout",
     "output_type": "stream",
     "text": [
      "False True True True\n",
      "False False False True\n",
      "False True\n"
     ]
    }
   ],
   "source": [
    "# logical operators: and, or, not\n",
    "print (False or False, False or True, True or False, True or True)\n",
    "print (False and False, False and True, True and False, True and True)\n",
    "print (not True, not False)"
   ]
  },
  {
   "cell_type": "code",
   "execution_count": 31,
   "id": "7bca1e7f-625e-4437-b965-7f8d56bbf375",
   "metadata": {},
   "outputs": [
    {
     "name": "stdout",
     "output_type": "stream",
     "text": [
      "So 100 is an Even number\n",
      "So 105 is an Odd number\n"
     ]
    }
   ],
   "source": [
    "# Operators can be of three types\n",
    "# 1. Unary operators (operator operand), e.g +100, -200\n",
    "# 2. Binary operators (operand operator operand) e.g. 100 + 40, 100 % 20\n",
    "# 3. Ternary operators (True_Part, condition, False_Part)\n",
    "# e.g.\n",
    "num1 = 100\n",
    "result = \"Even\" if (num1 % 2 == 0) else \"Odd\"\n",
    "print (f\"So {num1} is an {result} number\")\n",
    "\n",
    "num1 = 105\n",
    "result = \"Even\" if (num1 % 2 == 0) else \"Odd\"\n",
    "print (f\"So {num1} is an {result} number\")"
   ]
  },
  {
   "cell_type": "code",
   "execution_count": 39,
   "id": "66eb99d6-f01e-43b4-bb9f-477f62b40be4",
   "metadata": {},
   "outputs": [
    {
     "name": "stdin",
     "output_type": "stream",
     "text": [
      "Please enter the first number:  33\n",
      "Please enter the second number:  11\n",
      "Please enter the third number:  22\n"
     ]
    },
    {
     "name": "stdout",
     "output_type": "stream",
     "text": [
      "Maximum = 33...\n",
      "The first number is the maximum number...\n",
      "End of the program...\n"
     ]
    }
   ],
   "source": [
    "num1 = int(input(\"Please enter the first number: \"))\n",
    "num2 = int(input(\"Please enter the second number: \"))\n",
    "num3 = int(input(\"Please enter the third number: \"))\n",
    "if (num1 > num2):\n",
    "    if (num1 > num3):\n",
    "        print (f\"Maximum = {num1}...\")\n",
    "        print (\"The first number is the maximum number...\")\n",
    "    else:\n",
    "        print (f\"Maximum = {num3}\")\n",
    "        print (\"The third number is the maximum number...\")\n",
    "elif (num2 > num3):\n",
    "    print (f\"Maximum = {num2}\")\n",
    "    print (\"The second number is the maximum number...\")\n",
    "else:\n",
    "    print (f\"Maximum = {num3}\")\n",
    "    print (\"The third number is the maximum number...\")\n",
    "print (\"End of the program...\")"
   ]
  },
  {
   "cell_type": "code",
   "execution_count": 40,
   "id": "55edeaab-1a1d-4efd-a6a1-3776457447a4",
   "metadata": {},
   "outputs": [
    {
     "name": "stdin",
     "output_type": "stream",
     "text": [
      "Please enter the first number:  100\n",
      "Please enter the second number:  300\n",
      "Please enter the third number:  200\n"
     ]
    },
    {
     "name": "stdout",
     "output_type": "stream",
     "text": [
      "Maximum = 300\n",
      "The second number is the maximum number...\n",
      "End of the program...\n"
     ]
    }
   ],
   "source": [
    "num1 = int(input(\"Please enter the first number: \"))\n",
    "num2 = int(input(\"Please enter the second number: \"))\n",
    "num3 = int(input(\"Please enter the third number: \"))\n",
    "if (num1 > num2 and num1 > num3):\n",
    "    print (f\"Maximum = {num1}...\")\n",
    "    print (\"The first number is the maximum number...\")\n",
    "elif (num2 > num3):\n",
    "    print (f\"Maximum = {num2}\")\n",
    "    print (\"The second number is the maximum number...\")\n",
    "else:\n",
    "    print (f\"Maximum = {num3}\")\n",
    "    print (\"The third number is the maximum number...\")\n",
    "print (\"End of the program...\")"
   ]
  },
  {
   "cell_type": "code",
   "execution_count": null,
   "id": "b52ff642-d6e2-434a-a741-d083c6d3d1b0",
   "metadata": {},
   "outputs": [],
   "source": []
  },
  {
   "cell_type": "code",
   "execution_count": null,
   "id": "af9ce0bf-8968-4b86-b6e0-2526126b1ca4",
   "metadata": {},
   "outputs": [],
   "source": []
  },
  {
   "cell_type": "code",
   "execution_count": null,
   "id": "397858b4-f078-4905-bd14-9665ec938727",
   "metadata": {},
   "outputs": [],
   "source": []
  },
  {
   "cell_type": "code",
   "execution_count": null,
   "id": "750bfe00-d08a-4883-8573-1a4fbaa24d54",
   "metadata": {},
   "outputs": [],
   "source": []
  }
 ],
 "metadata": {
  "kernelspec": {
   "display_name": "Python 3 (ipykernel)",
   "language": "python",
   "name": "python3"
  },
  "language_info": {
   "codemirror_mode": {
    "name": "ipython",
    "version": 3
   },
   "file_extension": ".py",
   "mimetype": "text/x-python",
   "name": "python",
   "nbconvert_exporter": "python",
   "pygments_lexer": "ipython3",
   "version": "3.10.9"
  }
 },
 "nbformat": 4,
 "nbformat_minor": 5
}
