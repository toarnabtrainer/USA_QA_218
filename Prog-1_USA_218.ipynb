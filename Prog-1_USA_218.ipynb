{
 "cells": [
  {
   "cell_type": "markdown",
   "id": "18b1d3e9-134f-4654-bbcb-ef97dd46c83d",
   "metadata": {},
   "source": [
    "## Introduction to Python"
   ]
  },
  {
   "cell_type": "markdown",
   "id": "1d2260c9-d35f-4432-ae3c-8b3b2daabc8f",
   "metadata": {},
   "source": [
    "### Comment Lines"
   ]
  },
  {
   "cell_type": "code",
   "execution_count": null,
   "id": "2b268d9f-9dfc-45d1-905c-3291e5dec0d8",
   "metadata": {},
   "outputs": [],
   "source": [
    "# This is a comment line\n",
    "# This is another comment line\n",
    "# This is the last comment line here"
   ]
  },
  {
   "cell_type": "markdown",
   "id": "851bfa4a-f959-4e0b-bf5a-bac5e731a7de",
   "metadata": {},
   "source": [
    "### Inputs and Outputs in Python"
   ]
  },
  {
   "cell_type": "code",
   "execution_count": 2,
   "id": "14b9bb3f-35c7-4e7e-954b-b2a1e5ff6c26",
   "metadata": {},
   "outputs": [
    {
     "name": "stdin",
     "output_type": "stream",
     "text": [
      "Please enter the first number:  100\n",
      "Please enter the second number:  300\n"
     ]
    },
    {
     "name": "stdout",
     "output_type": "stream",
     "text": [
      "100 <class 'str'> 300 <class 'str'>\n",
      "100300\n",
      "End of the program...\n"
     ]
    }
   ],
   "source": [
    "num1 = input(\"Please enter the first number: \")\n",
    "num2 = input(\"Please enter the second number: \")\n",
    "print (num1, type(num1), num2, type(num2))\n",
    "result = num1 + num2\n",
    "print (result)\n",
    "print (\"End of the program...\")"
   ]
  },
  {
   "cell_type": "code",
   "execution_count": 3,
   "id": "1380e747-5540-457f-9701-a1e0b2cb87fb",
   "metadata": {},
   "outputs": [
    {
     "name": "stdin",
     "output_type": "stream",
     "text": [
      "Please enter the first number:  100\n",
      "Please enter the second number:  400\n"
     ]
    },
    {
     "name": "stdout",
     "output_type": "stream",
     "text": [
      "100 <class 'int'> 400 <class 'int'>\n",
      "500\n",
      "End of the program...\n"
     ]
    }
   ],
   "source": [
    "num1 = int(input(\"Please enter the first number: \"))\n",
    "num2 = int(input(\"Please enter the second number: \"))\n",
    "print (num1, type(num1), num2, type(num2))\n",
    "result = num1 + num2\n",
    "print (result)\n",
    "print (\"End of the program...\")"
   ]
  },
  {
   "cell_type": "code",
   "execution_count": 21,
   "id": "03572d14-b3c1-4c0e-a834-6f9953073a0b",
   "metadata": {},
   "outputs": [
    {
     "name": "stdout",
     "output_type": "stream",
     "text": [
      "So 100 + 400 = 500\n",
      "So 100 + 400 = 500\n",
      "So 100 + 400 = 500\n",
      "So 100 + 400 = 500\n",
      "So 100 + 400 = 500\n",
      "So 100 + 400 = 500\n",
      "So 100 + 400 = 500\n",
      "So 100 + 400 = 500\n",
      "So 100 + 400.000000 = 500\n",
      "So 100 +   400.00 = 500\n",
      "So 100 + 400 = 500\n"
     ]
    }
   ],
   "source": [
    "print (\"So\", num1, \"+\", num2, \"=\", result)\n",
    "print (\"So \" + str(num1) + \" + \" + str(num2) + \" = \" + str(result))\n",
    "print (\"So {} + {} = {}\".format(num1, num2, result))   # {} will be called variable place holder\n",
    "print (\"So {0} + {1} = {2}\".format(num1, num2, result))  # numbered place holder\n",
    "print (\"So {2} + {1} = {0}\".format(result, num2, num1))  # numbered place holder\n",
    "print (\"So {fn} + {sn} = {tot}\".format(fn = num1, sn = num2, tot = result))  # labelled place holder\n",
    "print (\"So {fn} + {sn} = {tot}\".format(tot = result, sn = num2, fn = num1))  # labelled place holder\n",
    "print (\"So %d + %d = %d\"%(num1, num2, result))\n",
    "print (\"So %d + %f = %d\"%(num1, num2, result))\n",
    "print (\"So %d + %8.2f = %d\"%(num1, num2, result))\n",
    "print (f\"So {num1} + {num2} = {result}\")   # smart formatting"
   ]
  },
  {
   "cell_type": "markdown",
   "id": "25713975-5a1a-452c-9841-93070d391019",
   "metadata": {},
   "source": [
    "### Operators"
   ]
  },
  {
   "cell_type": "code",
   "execution_count": 22,
   "id": "b8fbedd1-8a4e-4616-85cb-2be9b5f16a8d",
   "metadata": {},
   "outputs": [
    {
     "name": "stdout",
     "output_type": "stream",
     "text": [
      "140\n",
      "60\n",
      "4000\n",
      "2.5\n",
      "2\n",
      "100000000\n",
      "20\n"
     ]
    }
   ],
   "source": [
    "# arithmetic operators\n",
    "print (100 + 40)\n",
    "print (100 - 40)\n",
    "print (100 * 40)\n",
    "print (100 / 40)   # float fivision\n",
    "print (100 // 40)  # integer division\n",
    "print (100 ** 4)   # exponentiation\n",
    "print (100 % 40)   # remainder of the division"
   ]
  },
  {
   "cell_type": "code",
   "execution_count": 24,
   "id": "b7fbc342-1a5f-41ec-abb7-fa4908b61f00",
   "metadata": {},
   "outputs": [
    {
     "name": "stdout",
     "output_type": "stream",
     "text": [
      "False True True\n"
     ]
    }
   ],
   "source": [
    "# relational operators: >, >=, <, <=, !=, ==\n",
    "print (100 >= 200, 100 <= 200, 100 != 200)"
   ]
  },
  {
   "cell_type": "code",
   "execution_count": 28,
   "id": "02ba983c-1c81-4993-9679-1e5cc6b8b194",
   "metadata": {},
   "outputs": [
    {
     "name": "stdout",
     "output_type": "stream",
     "text": [
      "False True True True\n",
      "False False False True\n",
      "False True\n"
     ]
    }
   ],
   "source": [
    "# logical operators: and, or, not\n",
    "print (False or False, False or True, True or False, True or True)\n",
    "print (False and False, False and True, True and False, True and True)\n",
    "print (not True, not False)"
   ]
  },
  {
   "cell_type": "code",
   "execution_count": 31,
   "id": "7bca1e7f-625e-4437-b965-7f8d56bbf375",
   "metadata": {},
   "outputs": [
    {
     "name": "stdout",
     "output_type": "stream",
     "text": [
      "So 100 is an Even number\n",
      "So 105 is an Odd number\n"
     ]
    }
   ],
   "source": [
    "# Operators can be of three types\n",
    "# 1. Unary operators (operator operand), e.g +100, -200\n",
    "# 2. Binary operators (operand operator operand) e.g. 100 + 40, 100 % 20\n",
    "# 3. Ternary operators (True_Part, condition, False_Part)\n",
    "# e.g.\n",
    "num1 = 100\n",
    "result = \"Even\" if (num1 % 2 == 0) else \"Odd\"\n",
    "print (f\"So {num1} is an {result} number\")\n",
    "\n",
    "num1 = 105\n",
    "result = \"Even\" if (num1 % 2 == 0) else \"Odd\"\n",
    "print (f\"So {num1} is an {result} number\")"
   ]
  },
  {
   "cell_type": "code",
   "execution_count": 39,
   "id": "66eb99d6-f01e-43b4-bb9f-477f62b40be4",
   "metadata": {},
   "outputs": [
    {
     "name": "stdin",
     "output_type": "stream",
     "text": [
      "Please enter the first number:  33\n",
      "Please enter the second number:  11\n",
      "Please enter the third number:  22\n"
     ]
    },
    {
     "name": "stdout",
     "output_type": "stream",
     "text": [
      "Maximum = 33...\n",
      "The first number is the maximum number...\n",
      "End of the program...\n"
     ]
    }
   ],
   "source": [
    "num1 = int(input(\"Please enter the first number: \"))\n",
    "num2 = int(input(\"Please enter the second number: \"))\n",
    "num3 = int(input(\"Please enter the third number: \"))\n",
    "if (num1 > num2):\n",
    "    if (num1 > num3):\n",
    "        print (f\"Maximum = {num1}...\")\n",
    "        print (\"The first number is the maximum number...\")\n",
    "    else:\n",
    "        print (f\"Maximum = {num3}\")\n",
    "        print (\"The third number is the maximum number...\")\n",
    "elif (num2 > num3):\n",
    "    print (f\"Maximum = {num2}\")\n",
    "    print (\"The second number is the maximum number...\")\n",
    "else:\n",
    "    print (f\"Maximum = {num3}\")\n",
    "    print (\"The third number is the maximum number...\")\n",
    "print (\"End of the program...\")"
   ]
  },
  {
   "cell_type": "code",
   "execution_count": 40,
   "id": "55edeaab-1a1d-4efd-a6a1-3776457447a4",
   "metadata": {},
   "outputs": [
    {
     "name": "stdin",
     "output_type": "stream",
     "text": [
      "Please enter the first number:  100\n",
      "Please enter the second number:  300\n",
      "Please enter the third number:  200\n"
     ]
    },
    {
     "name": "stdout",
     "output_type": "stream",
     "text": [
      "Maximum = 300\n",
      "The second number is the maximum number...\n",
      "End of the program...\n"
     ]
    }
   ],
   "source": [
    "num1 = int(input(\"Please enter the first number: \"))\n",
    "num2 = int(input(\"Please enter the second number: \"))\n",
    "num3 = int(input(\"Please enter the third number: \"))\n",
    "if (num1 > num2 and num1 > num3):\n",
    "    print (f\"Maximum = {num1}...\")\n",
    "    print (\"The first number is the maximum number...\")\n",
    "elif (num2 > num3):\n",
    "    print (f\"Maximum = {num2}\")\n",
    "    print (\"The second number is the maximum number...\")\n",
    "else:\n",
    "    print (f\"Maximum = {num3}\")\n",
    "    print (\"The third number is the maximum number...\")\n",
    "print (\"End of the program...\")"
   ]
  },
  {
   "cell_type": "markdown",
   "id": "4655f06f-5abb-417a-ac63-cdb007655c09",
   "metadata": {},
   "source": [
    "### Loop Control in Python"
   ]
  },
  {
   "cell_type": "code",
   "execution_count": 1,
   "id": "af9ce0bf-8968-4b86-b6e0-2526126b1ca4",
   "metadata": {},
   "outputs": [
    {
     "name": "stdout",
     "output_type": "stream",
     "text": [
      "0\n",
      "1\n",
      "2\n",
      "3\n",
      "4\n",
      "5\n",
      "6\n",
      "7\n"
     ]
    }
   ],
   "source": [
    "for i in range(8):\n",
    "    print (i)"
   ]
  },
  {
   "cell_type": "code",
   "execution_count": 2,
   "id": "36918622-c427-4a54-804d-9244f6dffd83",
   "metadata": {},
   "outputs": [
    {
     "name": "stdout",
     "output_type": "stream",
     "text": [
      "0\n",
      "1\n",
      "2\n",
      "3\n",
      "4\n",
      "5\n",
      "6\n",
      "7\n"
     ]
    }
   ],
   "source": [
    "for i in range(0, 8):\n",
    "    print (i)"
   ]
  },
  {
   "cell_type": "code",
   "execution_count": 3,
   "id": "0630b6f4-d2cc-41d4-9122-02b951f970ee",
   "metadata": {},
   "outputs": [
    {
     "name": "stdout",
     "output_type": "stream",
     "text": [
      "0\n",
      "1\n",
      "2\n",
      "3\n",
      "4\n",
      "5\n",
      "6\n",
      "7\n"
     ]
    }
   ],
   "source": [
    "for i in range(0, 8, 1):\n",
    "    print (i)"
   ]
  },
  {
   "cell_type": "code",
   "execution_count": 5,
   "id": "c944e889-d95f-4565-aab9-55b23eaddd9e",
   "metadata": {},
   "outputs": [
    {
     "name": "stdout",
     "output_type": "stream",
     "text": [
      "1\n",
      "3\n",
      "5\n",
      "7\n"
     ]
    }
   ],
   "source": [
    "for i in range(1, 8, 2):\n",
    "    print (i)"
   ]
  },
  {
   "cell_type": "code",
   "execution_count": 7,
   "id": "acd833c1-c524-4c58-9c4e-27f5bc144f1d",
   "metadata": {},
   "outputs": [
    {
     "name": "stdout",
     "output_type": "stream",
     "text": [
      "10\n",
      "8\n",
      "6\n",
      "4\n",
      "2\n"
     ]
    }
   ],
   "source": [
    "for i in range(10, 1, -2):\n",
    "    print (i)"
   ]
  },
  {
   "cell_type": "code",
   "execution_count": 10,
   "id": "ccd04dab-478f-4447-80c4-071d90f98e32",
   "metadata": {},
   "outputs": [
    {
     "name": "stdout",
     "output_type": "stream",
     "text": [
      "Looping for i = 0...\n",
      "Looping for i = 1...\n",
      "Looping for i = 2...\n",
      "Looping for i = 3...\n",
      "Looping for i = 4...\n",
      "Else block is executing...\n",
      "Had a smooth execution...\n",
      "End of the program...\n"
     ]
    }
   ],
   "source": [
    "for i in range(5):\n",
    "    print (f\"Looping for i = {i}...\")\n",
    "else:\n",
    "    print (\"Else block is executing...\")\n",
    "    print (\"Had a smooth execution...\")\n",
    "print (\"End of the program...\")"
   ]
  },
  {
   "cell_type": "code",
   "execution_count": 13,
   "id": "c05264c4-d738-49bf-bc67-23a4422e151c",
   "metadata": {},
   "outputs": [
    {
     "name": "stdout",
     "output_type": "stream",
     "text": [
      "Looping for i = 0...\n",
      "Looping for i = 1...\n",
      "Looping for i = 2...\n",
      "Looping for i = 3...\n",
      "Looping for i = 4...\n",
      "Breaking out from the loop...\n",
      "End of the program...\n"
     ]
    }
   ],
   "source": [
    "for i in range(5):\n",
    "    print (f\"Looping for i = {i}...\")\n",
    "    if (i == 4): \n",
    "        print (\"Breaking out from the loop...\")\n",
    "        break\n",
    "else:\n",
    "    print (\"Else block is executing...\")\n",
    "    print (\"Had a smooth execution...\")\n",
    "print (\"End of the program...\")"
   ]
  },
  {
   "cell_type": "code",
   "execution_count": 16,
   "id": "6a303d27-f595-4ed8-9880-9e50e0e1c55b",
   "metadata": {},
   "outputs": [
    {
     "name": "stdin",
     "output_type": "stream",
     "text": [
      "Please enter one integer:  100\n"
     ]
    },
    {
     "name": "stdout",
     "output_type": "stream",
     "text": [
      "100 is NOT PRIME...\n",
      "End of the program...\n"
     ]
    }
   ],
   "source": [
    "num = int(input(\"Please enter one integer: \"))\n",
    "for i in range(2, num):\n",
    "    if (num % i == 0):\n",
    "        print (f\"{num} is NOT PRIME...\")\n",
    "        break\n",
    "else:\n",
    "    print (f\"{num} is PRIME\")\n",
    "print (\"End of the program...\")"
   ]
  },
  {
   "cell_type": "code",
   "execution_count": 17,
   "id": "03f71047-731c-48b7-8ad5-697fb8e60014",
   "metadata": {},
   "outputs": [
    {
     "name": "stdout",
     "output_type": "stream",
     "text": [
      "Looping with i = 0...\n",
      "Looping with i = 1...\n",
      "Looping with i = 2...\n",
      "For i = 3, continuing with the next iteration...\n",
      "Looping with i = 4...\n",
      "For i = 5, continuing with the next iteration...\n",
      "Looping with i = 6...\n",
      "Looping with i = 7...\n",
      "Looping with i = 8...\n",
      "Looping with i = 9...\n",
      "Else block is executing...\n",
      "End of the program...\n"
     ]
    }
   ],
   "source": [
    "for i in range(10):\n",
    "    if (i == 3 or i == 5):\n",
    "        print (f\"For i = {i}, continuing with the next iteration...\")\n",
    "        continue\n",
    "    print (f\"Looping with i = {i}...\")\n",
    "else:\n",
    "    print (\"Else block is executing...\")\n",
    "print (\"End of the program...\")"
   ]
  },
  {
   "cell_type": "code",
   "execution_count": 22,
   "id": "0f04f6e7-82ec-4715-9ecc-e5bccb6f17b5",
   "metadata": {},
   "outputs": [
    {
     "name": "stdout",
     "output_type": "stream",
     "text": [
      "This program will check whether a number is EVEN or not...\n"
     ]
    },
    {
     "name": "stdin",
     "output_type": "stream",
     "text": [
      "Please enter an integer:  101\n"
     ]
    },
    {
     "name": "stdout",
     "output_type": "stream",
     "text": [
      "End of the program...\n"
     ]
    }
   ],
   "source": [
    "print (\"This program will check whether a number is EVEN or not...\")\n",
    "num = int(input(\"Please enter an integer: \"))\n",
    "if (num % 2 == 1):\n",
    "    pass   # statement place holder\n",
    "else:\n",
    "    print (f\"{num} is EVEN...\")\n",
    "print (\"End of the program...\")"
   ]
  },
  {
   "cell_type": "code",
   "execution_count": 25,
   "id": "f8537770-99c2-4d15-bded-2bd1a1825474",
   "metadata": {},
   "outputs": [
    {
     "name": "stdout",
     "output_type": "stream",
     "text": [
      "This program will check whether a number is EVEN or ODD...\n"
     ]
    },
    {
     "name": "stdin",
     "output_type": "stream",
     "text": [
      "Please enter an integer:  101\n"
     ]
    },
    {
     "name": "stdout",
     "output_type": "stream",
     "text": [
      "101 is ODD...\n",
      "End of the program...\n"
     ]
    }
   ],
   "source": [
    "print (\"This program will check whether a number is EVEN or ODD...\")\n",
    "num = int(input(\"Please enter an integer: \"))\n",
    "if (num % 2 == 1):\n",
    "    print (f\"{num} is ODD...\")\n",
    "else:\n",
    "    print (f\"{num} is EVEN...\")\n",
    "print (\"End of the program...\")\n",
    "\n",
    "# 101 / 2 => Quotient = 50 and Remainder = 1, quotient <- 101 // 2, remainder <- 101 % 2\n",
    "# 101 / 2 => 50.5  (Float Division)\n",
    "# 101 // 2 => 50  (Integer Division)\n",
    "# 100 / 2 => Quotient = 50 and Remainder = 0"
   ]
  },
  {
   "cell_type": "code",
   "execution_count": 31,
   "id": "b4cae1a1-4b34-45ca-b4c0-7ea9d9c6bf6d",
   "metadata": {},
   "outputs": [
    {
     "name": "stdout",
     "output_type": "stream",
     "text": [
      "Visit Doctor...\n",
      "Good Morning...\n",
      "Day No. = 1 and Medicine No. = 1...\n",
      "Day No. = 1 and Medicine No. = 2...\n",
      "Day No. = 1 and Medicine No. = 3...\n",
      "Good Night....\n",
      "----------------------------------------\n",
      "Good Morning...\n",
      "Day No. = 2 and Medicine No. = 1...\n",
      "Day No. = 2 and Medicine No. = 2...\n",
      "Day No. = 2 and Medicine No. = 3...\n",
      "Good Night....\n",
      "----------------------------------------\n",
      "Good Morning...\n",
      "Day No. = 3 and Medicine No. = 1...\n",
      "Day No. = 3 and Medicine No. = 2...\n",
      "Day No. = 3 and Medicine No. = 3...\n",
      "Good Night....\n",
      "----------------------------------------\n",
      "Good Morning...\n",
      "Day No. = 4 and Medicine No. = 1...\n",
      "Day No. = 4 and Medicine No. = 2...\n",
      "Day No. = 4 and Medicine No. = 3...\n",
      "Good Night....\n",
      "----------------------------------------\n",
      "Good Morning...\n",
      "Day No. = 5 and Medicine No. = 1...\n",
      "Day No. = 5 and Medicine No. = 2...\n",
      "Day No. = 5 and Medicine No. = 3...\n",
      "Good Night....\n",
      "----------------------------------------\n",
      "Thanks to Doctor...\n",
      "Total number of medicines consumed is 15...\n"
     ]
    }
   ],
   "source": [
    "print (\"Visit Doctor...\")   # 1 time\n",
    "medi_count = 0\n",
    "for day in range(1, 6):\n",
    "    print (\"Good Morning...\")   # 5 times\n",
    "    for medi in range(1, 4):\n",
    "        print (f\"Day No. = {day} and Medicine No. = {medi}...\")   # 15 times\n",
    "        medi_count += 1   # 15 times\n",
    "    print (\"Good Night....\")   # 5 times\n",
    "    print (\"----------------------------------------\")   # 5 times\n",
    "else:\n",
    "    print (\"Thanks to Doctor...\")   # 1 time\n",
    "print (f\"Total number of medicines consumed is {medi_count}...\")"
   ]
  },
  {
   "cell_type": "code",
   "execution_count": 33,
   "id": "13aa0823-18bd-45f6-91c7-2a3dc00c0fc5",
   "metadata": {},
   "outputs": [
    {
     "name": "stdout",
     "output_type": "stream",
     "text": [
      "Looping with i = 1...\n",
      "Looping with i = 2...\n",
      "Looping with i = 3...\n",
      "Looping with i = 4...\n",
      "Looping with i = 5...\n",
      "Looping with i = 6...\n",
      "Looping with i = 7...\n",
      "Looping with i = 8...\n",
      "Else block is executing...\n",
      "End of the program...\n"
     ]
    }
   ],
   "source": [
    "i = 1\n",
    "while (i <= 8):\n",
    "    print (f\"Looping with i = {i}...\")\n",
    "    # i = i + 1\n",
    "    i += 1\n",
    "else:\n",
    "    print (\"Else block is executing...\")\n",
    "print (\"End of the program...\")"
   ]
  },
  {
   "cell_type": "code",
   "execution_count": 34,
   "id": "f9f86bdb-03f5-42ea-9a7a-af74b3b58ae9",
   "metadata": {},
   "outputs": [
    {
     "name": "stdout",
     "output_type": "stream",
     "text": [
      "Looping with i = 1...\n",
      "Looping with i = 4...\n",
      "Looping with i = 7...\n",
      "Else block is executing...\n",
      "End of the program...\n"
     ]
    }
   ],
   "source": [
    "i = 1\n",
    "while (i <= 8):\n",
    "    print (f\"Looping with i = {i}...\")\n",
    "    # i = i + 1\n",
    "    i += 3\n",
    "else:\n",
    "    print (\"Else block is executing...\")\n",
    "print (\"End of the program...\")"
   ]
  },
  {
   "cell_type": "code",
   "execution_count": 36,
   "id": "409869c1-6bba-4268-a838-efd8345b7480",
   "metadata": {},
   "outputs": [
    {
     "name": "stdout",
     "output_type": "stream",
     "text": [
      "Looping with i = 10...\n",
      "Looping with i = 7...\n",
      "Looping with i = 4...\n",
      "Looping with i = 1...\n",
      "Else block is executing...\n",
      "End of the program...\n"
     ]
    }
   ],
   "source": [
    "i = 10\n",
    "while (i >= 1):\n",
    "    print (f\"Looping with i = {i}...\")\n",
    "    # i = i + 1\n",
    "    i -= 3\n",
    "else:\n",
    "    print (\"Else block is executing...\")\n",
    "print (\"End of the program...\")"
   ]
  },
  {
   "cell_type": "code",
   "execution_count": 37,
   "id": "397858b4-f078-4905-bd14-9665ec938727",
   "metadata": {},
   "outputs": [
    {
     "name": "stdout",
     "output_type": "stream",
     "text": [
      "Visit Doctor...\n",
      "Good Morning...\n",
      "Day No. = 1 and Medicine No. = 1...\n",
      "Day No. = 1 and Medicine No. = 2...\n",
      "Day No. = 1 and Medicine No. = 3...\n",
      "Good Night....\n",
      "----------------------------------------\n",
      "Good Morning...\n",
      "Day No. = 2 and Medicine No. = 1...\n",
      "Day No. = 2 and Medicine No. = 2...\n",
      "Day No. = 2 and Medicine No. = 3...\n",
      "Good Night....\n",
      "----------------------------------------\n",
      "Good Morning...\n",
      "Day No. = 3 and Medicine No. = 1...\n",
      "Day No. = 3 and Medicine No. = 2...\n",
      "Day No. = 3 and Medicine No. = 3...\n",
      "Good Night....\n",
      "----------------------------------------\n",
      "Good Morning...\n",
      "Day No. = 4 and Medicine No. = 1...\n",
      "Day No. = 4 and Medicine No. = 2...\n",
      "Day No. = 4 and Medicine No. = 3...\n",
      "Good Night....\n",
      "----------------------------------------\n",
      "Good Morning...\n",
      "Day No. = 5 and Medicine No. = 1...\n",
      "Day No. = 5 and Medicine No. = 2...\n",
      "Day No. = 5 and Medicine No. = 3...\n",
      "Good Night....\n",
      "----------------------------------------\n",
      "Thanks to Doctor...\n",
      "Total number of medicines consumed is 15...\n"
     ]
    }
   ],
   "source": [
    "print (\"Visit Doctor...\")   # 1 time\n",
    "medi_count = 0\n",
    "day = 1\n",
    "while (day <= 5):\n",
    "    print (\"Good Morning...\")   # 5 times\n",
    "    medi = 1\n",
    "    while (medi <= 3):\n",
    "        print (f\"Day No. = {day} and Medicine No. = {medi}...\")   # 15 times\n",
    "        medi_count += 1   # 15 times\n",
    "        medi += 1\n",
    "    print (\"Good Night....\")   # 5 times\n",
    "    print (\"----------------------------------------\")   # 5 times\n",
    "    day += 1\n",
    "else:\n",
    "    print (\"Thanks to Doctor...\")   # 1 time\n",
    "print (f\"Total number of medicines consumed is {medi_count}...\")"
   ]
  },
  {
   "cell_type": "code",
   "execution_count": 41,
   "id": "750bfe00-d08a-4883-8573-1a4fbaa24d54",
   "metadata": {},
   "outputs": [
    {
     "name": "stdout",
     "output_type": "stream",
     "text": [
      "Hello Hello Hello Hello Hello \n",
      "Welcome Welcome Welcome Welcome Welcome Welcome Welcome Welcome \n"
     ]
    }
   ],
   "source": [
    "print (\"Hello \" * 5)\n",
    "print (\"Welcome \" * 8)"
   ]
  },
  {
   "cell_type": "code",
   "execution_count": null,
   "id": "54f4b557-3cd8-4bf6-981d-a13974e26fd0",
   "metadata": {},
   "outputs": [],
   "source": [
    "Pattern - 1\n",
    "-----------\n",
    "n = 6 (User given integer)\n",
    "                 i   .   *\n",
    "               -------------\n",
    ".....*           1   5   1\n",
    "....***          2   4   3  . => (n - i)\n",
    "...*****         3   3   5\n",
    "..*******        4   2   7  * => (2 * i - 1)\n",
    ".*********       5   1   9\n",
    "***********      6   0  11\n",
    "               -------------\n",
    "               Tracing Table"
   ]
  },
  {
   "cell_type": "code",
   "execution_count": 44,
   "id": "1a40887a-edb9-4490-b30c-05ba4f7b4d4e",
   "metadata": {},
   "outputs": [
    {
     "name": "stdin",
     "output_type": "stream",
     "text": [
      "Please enter the number of layers of the pattern:  11\n"
     ]
    },
    {
     "name": "stdout",
     "output_type": "stream",
     "text": [
      "..........*\n",
      ".........***\n",
      "........*****\n",
      ".......*******\n",
      "......*********\n",
      ".....***********\n",
      "....*************\n",
      "...***************\n",
      "..*****************\n",
      ".*******************\n",
      "*********************\n",
      "End of the pattern printing...\n"
     ]
    }
   ],
   "source": [
    "n = int(input(\"Please enter the number of layers of the pattern: \"))\n",
    "for i in range(1, n + 1, 1):\n",
    "    print (\".\" * (n - i) + \"*\" * (2 * i - 1))\n",
    "print (\"End of the pattern printing...\")"
   ]
  },
  {
   "cell_type": "code",
   "execution_count": null,
   "id": "19194f09-aa2d-4778-b870-7457c0d9a3d8",
   "metadata": {},
   "outputs": [],
   "source": [
    "Pattern - 2\n",
    "-----------\n",
    "n = 6 (User given integer)\n",
    "                 i   .   *\n",
    "               -------------\n",
    "***********      1   0  11\n",
    ".*********       2   1   9  . => (i - 1)\n",
    "..*******        3   2   7\n",
    "...*****         4   3   5  * => (2 * (n - i) + 1)\n",
    "....***          5   4   3\n",
    ".....*           6   5   1\n",
    "               -------------\n",
    "               Tracing Table"
   ]
  },
  {
   "cell_type": "code",
   "execution_count": 47,
   "id": "d5110ea7-3520-4f67-a49d-3036f6b98f60",
   "metadata": {},
   "outputs": [
    {
     "name": "stdin",
     "output_type": "stream",
     "text": [
      "Please enter the number of layers of the pattern:  6\n"
     ]
    },
    {
     "name": "stdout",
     "output_type": "stream",
     "text": [
      "***********\n",
      ".*********\n",
      "..*******\n",
      "...*****\n",
      "....***\n",
      ".....*\n",
      "End of the pattern printing...\n"
     ]
    }
   ],
   "source": [
    "n = int(input(\"Please enter the number of layers of the pattern: \"))\n",
    "for i in range(1, n + 1, 1):\n",
    "    print (\".\" * (i - 1) + \"*\" * (2 * (n - i) + 1))\n",
    "print (\"End of the pattern printing...\")"
   ]
  },
  {
   "cell_type": "code",
   "execution_count": null,
   "id": "237c984b-0ccf-4926-889a-c96ae737ae31",
   "metadata": {},
   "outputs": [],
   "source": [
    "Pattern - 3\n",
    "-----------\n",
    "n = 11 (User given ODD integer), m = (n + 1) // 2 = 6\n",
    "                 i   .   *\n",
    "               -------------\n",
    ".....*           1   5   1       i, n, m\n",
    "....***          2   4   3  . => (m - i)\n",
    "...*****         3   3   5\n",
    "..*******        4   2   7  * => (2 * i - 1)\n",
    ".*********       5   1   9\n",
    "***********    __6___0__11__\n",
    ".*********       7   1   9\n",
    "..*******        8   2   7  . => (i - m)\n",
    "...*****         9   3   5\n",
    "....***         10   4   3  * => (2 * (n - i) + 1)\n",
    ".....*          11   5   1\n",
    "               -------------\n",
    "               Tracing Table"
   ]
  },
  {
   "cell_type": "code",
   "execution_count": 52,
   "id": "1d85615c-6588-4e21-a734-e8aefdf9c6b7",
   "metadata": {},
   "outputs": [
    {
     "name": "stdin",
     "output_type": "stream",
     "text": [
      "Please enter the ODD number of layers of the pattern:  12\n",
      "Please enter the ODD number of layers of the pattern:  14\n",
      "Please enter the ODD number of layers of the pattern:  20\n",
      "Please enter the ODD number of layers of the pattern:  22\n",
      "Please enter the ODD number of layers of the pattern:  32\n",
      "Please enter the ODD number of layers of the pattern:  16\n",
      "Please enter the ODD number of layers of the pattern:  11\n"
     ]
    },
    {
     "name": "stdout",
     "output_type": "stream",
     "text": [
      ".....*\n",
      "....***\n",
      "...*****\n",
      "..*******\n",
      ".*********\n",
      "***********\n",
      ".*********\n",
      "..*******\n",
      "...*****\n",
      "....***\n",
      ".....*\n",
      "End of the pattern printing...\n"
     ]
    }
   ],
   "source": [
    "while (True):\n",
    "    n = int(input(\"Please enter the ODD number of layers of the pattern: \"))\n",
    "    if (n % 2 == 1): break\n",
    "m = (n + 1) // 2\n",
    "for i in range(1, n + 1, 1):\n",
    "    if (i > m): b = (i - m); s = (2 * (n - i) + 1)\n",
    "    else: b = (m - i); s = (2 * i - 1)\n",
    "    print (\".\" * b + \"*\" * s)\n",
    "print (\"End of the pattern printing...\")"
   ]
  }
 ],
 "metadata": {
  "kernelspec": {
   "display_name": "Python 3 (ipykernel)",
   "language": "python",
   "name": "python3"
  },
  "language_info": {
   "codemirror_mode": {
    "name": "ipython",
    "version": 3
   },
   "file_extension": ".py",
   "mimetype": "text/x-python",
   "name": "python",
   "nbconvert_exporter": "python",
   "pygments_lexer": "ipython3",
   "version": "3.10.9"
  }
 },
 "nbformat": 4,
 "nbformat_minor": 5
}
