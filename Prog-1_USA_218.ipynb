{
 "cells": [
  {
   "cell_type": "markdown",
   "id": "18b1d3e9-134f-4654-bbcb-ef97dd46c83d",
   "metadata": {},
   "source": [
    "## Introduction to Python"
   ]
  },
  {
   "cell_type": "markdown",
   "id": "1d2260c9-d35f-4432-ae3c-8b3b2daabc8f",
   "metadata": {},
   "source": [
    "### Comment Lines"
   ]
  },
  {
   "cell_type": "code",
   "execution_count": null,
   "id": "2b268d9f-9dfc-45d1-905c-3291e5dec0d8",
   "metadata": {},
   "outputs": [],
   "source": [
    "# This is a comment line\n",
    "# This is another comment line\n",
    "# This is the last comment line here"
   ]
  },
  {
   "cell_type": "markdown",
   "id": "851bfa4a-f959-4e0b-bf5a-bac5e731a7de",
   "metadata": {},
   "source": [
    "### Inputs and Outputs in Python"
   ]
  },
  {
   "cell_type": "code",
   "execution_count": 2,
   "id": "14b9bb3f-35c7-4e7e-954b-b2a1e5ff6c26",
   "metadata": {},
   "outputs": [
    {
     "name": "stdin",
     "output_type": "stream",
     "text": [
      "Please enter the first number:  100\n",
      "Please enter the second number:  300\n"
     ]
    },
    {
     "name": "stdout",
     "output_type": "stream",
     "text": [
      "100 <class 'str'> 300 <class 'str'>\n",
      "100300\n",
      "End of the program...\n"
     ]
    }
   ],
   "source": [
    "num1 = input(\"Please enter the first number: \")\n",
    "num2 = input(\"Please enter the second number: \")\n",
    "print (num1, type(num1), num2, type(num2))\n",
    "result = num1 + num2\n",
    "print (result)\n",
    "print (\"End of the program...\")"
   ]
  },
  {
   "cell_type": "code",
   "execution_count": 3,
   "id": "1380e747-5540-457f-9701-a1e0b2cb87fb",
   "metadata": {},
   "outputs": [
    {
     "name": "stdin",
     "output_type": "stream",
     "text": [
      "Please enter the first number:  100\n",
      "Please enter the second number:  400\n"
     ]
    },
    {
     "name": "stdout",
     "output_type": "stream",
     "text": [
      "100 <class 'int'> 400 <class 'int'>\n",
      "500\n",
      "End of the program...\n"
     ]
    }
   ],
   "source": [
    "num1 = int(input(\"Please enter the first number: \"))\n",
    "num2 = int(input(\"Please enter the second number: \"))\n",
    "print (num1, type(num1), num2, type(num2))\n",
    "result = num1 + num2\n",
    "print (result)\n",
    "print (\"End of the program...\")"
   ]
  },
  {
   "cell_type": "code",
   "execution_count": 21,
   "id": "03572d14-b3c1-4c0e-a834-6f9953073a0b",
   "metadata": {},
   "outputs": [
    {
     "name": "stdout",
     "output_type": "stream",
     "text": [
      "So 100 + 400 = 500\n",
      "So 100 + 400 = 500\n",
      "So 100 + 400 = 500\n",
      "So 100 + 400 = 500\n",
      "So 100 + 400 = 500\n",
      "So 100 + 400 = 500\n",
      "So 100 + 400 = 500\n",
      "So 100 + 400 = 500\n",
      "So 100 + 400.000000 = 500\n",
      "So 100 +   400.00 = 500\n",
      "So 100 + 400 = 500\n"
     ]
    }
   ],
   "source": [
    "print (\"So\", num1, \"+\", num2, \"=\", result)\n",
    "print (\"So \" + str(num1) + \" + \" + str(num2) + \" = \" + str(result))\n",
    "print (\"So {} + {} = {}\".format(num1, num2, result))   # {} will be called variable place holder\n",
    "print (\"So {0} + {1} = {2}\".format(num1, num2, result))  # numbered place holder\n",
    "print (\"So {2} + {1} = {0}\".format(result, num2, num1))  # numbered place holder\n",
    "print (\"So {fn} + {sn} = {tot}\".format(fn = num1, sn = num2, tot = result))  # labelled place holder\n",
    "print (\"So {fn} + {sn} = {tot}\".format(tot = result, sn = num2, fn = num1))  # labelled place holder\n",
    "print (\"So %d + %d = %d\"%(num1, num2, result))\n",
    "print (\"So %d + %f = %d\"%(num1, num2, result))\n",
    "print (\"So %d + %8.2f = %d\"%(num1, num2, result))\n",
    "print (f\"So {num1} + {num2} = {result}\")   # smart formatting"
   ]
  },
  {
   "cell_type": "markdown",
   "id": "25713975-5a1a-452c-9841-93070d391019",
   "metadata": {},
   "source": [
    "### Operators"
   ]
  },
  {
   "cell_type": "code",
   "execution_count": 22,
   "id": "b8fbedd1-8a4e-4616-85cb-2be9b5f16a8d",
   "metadata": {},
   "outputs": [
    {
     "name": "stdout",
     "output_type": "stream",
     "text": [
      "140\n",
      "60\n",
      "4000\n",
      "2.5\n",
      "2\n",
      "100000000\n",
      "20\n"
     ]
    }
   ],
   "source": [
    "# arithmetic operators\n",
    "print (100 + 40)\n",
    "print (100 - 40)\n",
    "print (100 * 40)\n",
    "print (100 / 40)   # float fivision\n",
    "print (100 // 40)  # integer division\n",
    "print (100 ** 4)   # exponentiation\n",
    "print (100 % 40)   # remainder of the division"
   ]
  },
  {
   "cell_type": "code",
   "execution_count": 24,
   "id": "b7fbc342-1a5f-41ec-abb7-fa4908b61f00",
   "metadata": {},
   "outputs": [
    {
     "name": "stdout",
     "output_type": "stream",
     "text": [
      "False True True\n"
     ]
    }
   ],
   "source": [
    "# relational operators: >, >=, <, <=, !=, ==\n",
    "print (100 >= 200, 100 <= 200, 100 != 200)"
   ]
  },
  {
   "cell_type": "code",
   "execution_count": 28,
   "id": "02ba983c-1c81-4993-9679-1e5cc6b8b194",
   "metadata": {},
   "outputs": [
    {
     "name": "stdout",
     "output_type": "stream",
     "text": [
      "False True True True\n",
      "False False False True\n",
      "False True\n"
     ]
    }
   ],
   "source": [
    "# logical operators: and, or, not\n",
    "print (False or False, False or True, True or False, True or True)\n",
    "print (False and False, False and True, True and False, True and True)\n",
    "print (not True, not False)"
   ]
  },
  {
   "cell_type": "code",
   "execution_count": 31,
   "id": "7bca1e7f-625e-4437-b965-7f8d56bbf375",
   "metadata": {},
   "outputs": [
    {
     "name": "stdout",
     "output_type": "stream",
     "text": [
      "So 100 is an Even number\n",
      "So 105 is an Odd number\n"
     ]
    }
   ],
   "source": [
    "# Operators can be of three types\n",
    "# 1. Unary operators (operator operand), e.g +100, -200\n",
    "# 2. Binary operators (operand operator operand) e.g. 100 + 40, 100 % 20\n",
    "# 3. Ternary operators (True_Part, condition, False_Part)\n",
    "# e.g.\n",
    "num1 = 100\n",
    "result = \"Even\" if (num1 % 2 == 0) else \"Odd\"\n",
    "print (f\"So {num1} is an {result} number\")\n",
    "\n",
    "num1 = 105\n",
    "result = \"Even\" if (num1 % 2 == 0) else \"Odd\"\n",
    "print (f\"So {num1} is an {result} number\")"
   ]
  },
  {
   "cell_type": "code",
   "execution_count": 39,
   "id": "66eb99d6-f01e-43b4-bb9f-477f62b40be4",
   "metadata": {},
   "outputs": [
    {
     "name": "stdin",
     "output_type": "stream",
     "text": [
      "Please enter the first number:  33\n",
      "Please enter the second number:  11\n",
      "Please enter the third number:  22\n"
     ]
    },
    {
     "name": "stdout",
     "output_type": "stream",
     "text": [
      "Maximum = 33...\n",
      "The first number is the maximum number...\n",
      "End of the program...\n"
     ]
    }
   ],
   "source": [
    "num1 = int(input(\"Please enter the first number: \"))\n",
    "num2 = int(input(\"Please enter the second number: \"))\n",
    "num3 = int(input(\"Please enter the third number: \"))\n",
    "if (num1 > num2):\n",
    "    if (num1 > num3):\n",
    "        print (f\"Maximum = {num1}...\")\n",
    "        print (\"The first number is the maximum number...\")\n",
    "    else:\n",
    "        print (f\"Maximum = {num3}\")\n",
    "        print (\"The third number is the maximum number...\")\n",
    "elif (num2 > num3):\n",
    "    print (f\"Maximum = {num2}\")\n",
    "    print (\"The second number is the maximum number...\")\n",
    "else:\n",
    "    print (f\"Maximum = {num3}\")\n",
    "    print (\"The third number is the maximum number...\")\n",
    "print (\"End of the program...\")"
   ]
  },
  {
   "cell_type": "code",
   "execution_count": 40,
   "id": "55edeaab-1a1d-4efd-a6a1-3776457447a4",
   "metadata": {},
   "outputs": [
    {
     "name": "stdin",
     "output_type": "stream",
     "text": [
      "Please enter the first number:  100\n",
      "Please enter the second number:  300\n",
      "Please enter the third number:  200\n"
     ]
    },
    {
     "name": "stdout",
     "output_type": "stream",
     "text": [
      "Maximum = 300\n",
      "The second number is the maximum number...\n",
      "End of the program...\n"
     ]
    }
   ],
   "source": [
    "num1 = int(input(\"Please enter the first number: \"))\n",
    "num2 = int(input(\"Please enter the second number: \"))\n",
    "num3 = int(input(\"Please enter the third number: \"))\n",
    "if (num1 > num2 and num1 > num3):\n",
    "    print (f\"Maximum = {num1}...\")\n",
    "    print (\"The first number is the maximum number...\")\n",
    "elif (num2 > num3):\n",
    "    print (f\"Maximum = {num2}\")\n",
    "    print (\"The second number is the maximum number...\")\n",
    "else:\n",
    "    print (f\"Maximum = {num3}\")\n",
    "    print (\"The third number is the maximum number...\")\n",
    "print (\"End of the program...\")"
   ]
  },
  {
   "cell_type": "markdown",
   "id": "4655f06f-5abb-417a-ac63-cdb007655c09",
   "metadata": {},
   "source": [
    "### Loop Control in Python"
   ]
  },
  {
   "cell_type": "code",
   "execution_count": 1,
   "id": "af9ce0bf-8968-4b86-b6e0-2526126b1ca4",
   "metadata": {},
   "outputs": [
    {
     "name": "stdout",
     "output_type": "stream",
     "text": [
      "0\n",
      "1\n",
      "2\n",
      "3\n",
      "4\n",
      "5\n",
      "6\n",
      "7\n"
     ]
    }
   ],
   "source": [
    "for i in range(8):\n",
    "    print (i)"
   ]
  },
  {
   "cell_type": "code",
   "execution_count": 2,
   "id": "36918622-c427-4a54-804d-9244f6dffd83",
   "metadata": {},
   "outputs": [
    {
     "name": "stdout",
     "output_type": "stream",
     "text": [
      "0\n",
      "1\n",
      "2\n",
      "3\n",
      "4\n",
      "5\n",
      "6\n",
      "7\n"
     ]
    }
   ],
   "source": [
    "for i in range(0, 8):\n",
    "    print (i)"
   ]
  },
  {
   "cell_type": "code",
   "execution_count": 3,
   "id": "0630b6f4-d2cc-41d4-9122-02b951f970ee",
   "metadata": {},
   "outputs": [
    {
     "name": "stdout",
     "output_type": "stream",
     "text": [
      "0\n",
      "1\n",
      "2\n",
      "3\n",
      "4\n",
      "5\n",
      "6\n",
      "7\n"
     ]
    }
   ],
   "source": [
    "for i in range(0, 8, 1):\n",
    "    print (i)"
   ]
  },
  {
   "cell_type": "code",
   "execution_count": 5,
   "id": "c944e889-d95f-4565-aab9-55b23eaddd9e",
   "metadata": {},
   "outputs": [
    {
     "name": "stdout",
     "output_type": "stream",
     "text": [
      "1\n",
      "3\n",
      "5\n",
      "7\n"
     ]
    }
   ],
   "source": [
    "for i in range(1, 8, 2):\n",
    "    print (i)"
   ]
  },
  {
   "cell_type": "code",
   "execution_count": 7,
   "id": "acd833c1-c524-4c58-9c4e-27f5bc144f1d",
   "metadata": {},
   "outputs": [
    {
     "name": "stdout",
     "output_type": "stream",
     "text": [
      "10\n",
      "8\n",
      "6\n",
      "4\n",
      "2\n"
     ]
    }
   ],
   "source": [
    "for i in range(10, 1, -2):\n",
    "    print (i)"
   ]
  },
  {
   "cell_type": "code",
   "execution_count": 10,
   "id": "ccd04dab-478f-4447-80c4-071d90f98e32",
   "metadata": {},
   "outputs": [
    {
     "name": "stdout",
     "output_type": "stream",
     "text": [
      "Looping for i = 0...\n",
      "Looping for i = 1...\n",
      "Looping for i = 2...\n",
      "Looping for i = 3...\n",
      "Looping for i = 4...\n",
      "Else block is executing...\n",
      "Had a smooth execution...\n",
      "End of the program...\n"
     ]
    }
   ],
   "source": [
    "for i in range(5):\n",
    "    print (f\"Looping for i = {i}...\")\n",
    "else:\n",
    "    print (\"Else block is executing...\")\n",
    "    print (\"Had a smooth execution...\")\n",
    "print (\"End of the program...\")"
   ]
  },
  {
   "cell_type": "code",
   "execution_count": 13,
   "id": "c05264c4-d738-49bf-bc67-23a4422e151c",
   "metadata": {},
   "outputs": [
    {
     "name": "stdout",
     "output_type": "stream",
     "text": [
      "Looping for i = 0...\n",
      "Looping for i = 1...\n",
      "Looping for i = 2...\n",
      "Looping for i = 3...\n",
      "Looping for i = 4...\n",
      "Breaking out from the loop...\n",
      "End of the program...\n"
     ]
    }
   ],
   "source": [
    "for i in range(5):\n",
    "    print (f\"Looping for i = {i}...\")\n",
    "    if (i == 4): \n",
    "        print (\"Breaking out from the loop...\")\n",
    "        break\n",
    "else:\n",
    "    print (\"Else block is executing...\")\n",
    "    print (\"Had a smooth execution...\")\n",
    "print (\"End of the program...\")"
   ]
  },
  {
   "cell_type": "code",
   "execution_count": 16,
   "id": "6a303d27-f595-4ed8-9880-9e50e0e1c55b",
   "metadata": {},
   "outputs": [
    {
     "name": "stdin",
     "output_type": "stream",
     "text": [
      "Please enter one integer:  100\n"
     ]
    },
    {
     "name": "stdout",
     "output_type": "stream",
     "text": [
      "100 is NOT PRIME...\n",
      "End of the program...\n"
     ]
    }
   ],
   "source": [
    "num = int(input(\"Please enter one integer: \"))\n",
    "for i in range(2, num):\n",
    "    if (num % i == 0):\n",
    "        print (f\"{num} is NOT PRIME...\")\n",
    "        break\n",
    "else:\n",
    "    print (f\"{num} is PRIME\")\n",
    "print (\"End of the program...\")"
   ]
  },
  {
   "cell_type": "code",
   "execution_count": 17,
   "id": "03f71047-731c-48b7-8ad5-697fb8e60014",
   "metadata": {},
   "outputs": [
    {
     "name": "stdout",
     "output_type": "stream",
     "text": [
      "Looping with i = 0...\n",
      "Looping with i = 1...\n",
      "Looping with i = 2...\n",
      "For i = 3, continuing with the next iteration...\n",
      "Looping with i = 4...\n",
      "For i = 5, continuing with the next iteration...\n",
      "Looping with i = 6...\n",
      "Looping with i = 7...\n",
      "Looping with i = 8...\n",
      "Looping with i = 9...\n",
      "Else block is executing...\n",
      "End of the program...\n"
     ]
    }
   ],
   "source": [
    "for i in range(10):\n",
    "    if (i == 3 or i == 5):\n",
    "        print (f\"For i = {i}, continuing with the next iteration...\")\n",
    "        continue\n",
    "    print (f\"Looping with i = {i}...\")\n",
    "else:\n",
    "    print (\"Else block is executing...\")\n",
    "print (\"End of the program...\")"
   ]
  },
  {
   "cell_type": "code",
   "execution_count": 22,
   "id": "0f04f6e7-82ec-4715-9ecc-e5bccb6f17b5",
   "metadata": {},
   "outputs": [
    {
     "name": "stdout",
     "output_type": "stream",
     "text": [
      "This program will check whether a number is EVEN or not...\n"
     ]
    },
    {
     "name": "stdin",
     "output_type": "stream",
     "text": [
      "Please enter an integer:  101\n"
     ]
    },
    {
     "name": "stdout",
     "output_type": "stream",
     "text": [
      "End of the program...\n"
     ]
    }
   ],
   "source": [
    "print (\"This program will check whether a number is EVEN or not...\")\n",
    "num = int(input(\"Please enter an integer: \"))\n",
    "if (num % 2 == 1):\n",
    "    pass   # statement place holder\n",
    "else:\n",
    "    print (f\"{num} is EVEN...\")\n",
    "print (\"End of the program...\")"
   ]
  },
  {
   "cell_type": "code",
   "execution_count": 25,
   "id": "f8537770-99c2-4d15-bded-2bd1a1825474",
   "metadata": {},
   "outputs": [
    {
     "name": "stdout",
     "output_type": "stream",
     "text": [
      "This program will check whether a number is EVEN or ODD...\n"
     ]
    },
    {
     "name": "stdin",
     "output_type": "stream",
     "text": [
      "Please enter an integer:  101\n"
     ]
    },
    {
     "name": "stdout",
     "output_type": "stream",
     "text": [
      "101 is ODD...\n",
      "End of the program...\n"
     ]
    }
   ],
   "source": [
    "print (\"This program will check whether a number is EVEN or ODD...\")\n",
    "num = int(input(\"Please enter an integer: \"))\n",
    "if (num % 2 == 1):\n",
    "    print (f\"{num} is ODD...\")\n",
    "else:\n",
    "    print (f\"{num} is EVEN...\")\n",
    "print (\"End of the program...\")\n",
    "\n",
    "# 101 / 2 => Quotient = 50 and Remainder = 1, quotient <- 101 // 2, remainder <- 101 % 2\n",
    "# 101 / 2 => 50.5  (Float Division)\n",
    "# 101 // 2 => 50  (Integer Division)\n",
    "# 100 / 2 => Quotient = 50 and Remainder = 0"
   ]
  },
  {
   "cell_type": "code",
   "execution_count": 31,
   "id": "b4cae1a1-4b34-45ca-b4c0-7ea9d9c6bf6d",
   "metadata": {},
   "outputs": [
    {
     "name": "stdout",
     "output_type": "stream",
     "text": [
      "Visit Doctor...\n",
      "Good Morning...\n",
      "Day No. = 1 and Medicine No. = 1...\n",
      "Day No. = 1 and Medicine No. = 2...\n",
      "Day No. = 1 and Medicine No. = 3...\n",
      "Good Night....\n",
      "----------------------------------------\n",
      "Good Morning...\n",
      "Day No. = 2 and Medicine No. = 1...\n",
      "Day No. = 2 and Medicine No. = 2...\n",
      "Day No. = 2 and Medicine No. = 3...\n",
      "Good Night....\n",
      "----------------------------------------\n",
      "Good Morning...\n",
      "Day No. = 3 and Medicine No. = 1...\n",
      "Day No. = 3 and Medicine No. = 2...\n",
      "Day No. = 3 and Medicine No. = 3...\n",
      "Good Night....\n",
      "----------------------------------------\n",
      "Good Morning...\n",
      "Day No. = 4 and Medicine No. = 1...\n",
      "Day No. = 4 and Medicine No. = 2...\n",
      "Day No. = 4 and Medicine No. = 3...\n",
      "Good Night....\n",
      "----------------------------------------\n",
      "Good Morning...\n",
      "Day No. = 5 and Medicine No. = 1...\n",
      "Day No. = 5 and Medicine No. = 2...\n",
      "Day No. = 5 and Medicine No. = 3...\n",
      "Good Night....\n",
      "----------------------------------------\n",
      "Thanks to Doctor...\n",
      "Total number of medicines consumed is 15...\n"
     ]
    }
   ],
   "source": [
    "print (\"Visit Doctor...\")   # 1 time\n",
    "medi_count = 0\n",
    "for day in range(1, 6):\n",
    "    print (\"Good Morning...\")   # 5 times\n",
    "    for medi in range(1, 4):\n",
    "        print (f\"Day No. = {day} and Medicine No. = {medi}...\")   # 15 times\n",
    "        medi_count += 1   # 15 times\n",
    "    print (\"Good Night....\")   # 5 times\n",
    "    print (\"----------------------------------------\")   # 5 times\n",
    "else:\n",
    "    print (\"Thanks to Doctor...\")   # 1 time\n",
    "print (f\"Total number of medicines consumed is {medi_count}...\")"
   ]
  },
  {
   "cell_type": "code",
   "execution_count": 33,
   "id": "13aa0823-18bd-45f6-91c7-2a3dc00c0fc5",
   "metadata": {},
   "outputs": [
    {
     "name": "stdout",
     "output_type": "stream",
     "text": [
      "Looping with i = 1...\n",
      "Looping with i = 2...\n",
      "Looping with i = 3...\n",
      "Looping with i = 4...\n",
      "Looping with i = 5...\n",
      "Looping with i = 6...\n",
      "Looping with i = 7...\n",
      "Looping with i = 8...\n",
      "Else block is executing...\n",
      "End of the program...\n"
     ]
    }
   ],
   "source": [
    "i = 1\n",
    "while (i <= 8):\n",
    "    print (f\"Looping with i = {i}...\")\n",
    "    # i = i + 1\n",
    "    i += 1\n",
    "else:\n",
    "    print (\"Else block is executing...\")\n",
    "print (\"End of the program...\")"
   ]
  },
  {
   "cell_type": "code",
   "execution_count": 34,
   "id": "f9f86bdb-03f5-42ea-9a7a-af74b3b58ae9",
   "metadata": {},
   "outputs": [
    {
     "name": "stdout",
     "output_type": "stream",
     "text": [
      "Looping with i = 1...\n",
      "Looping with i = 4...\n",
      "Looping with i = 7...\n",
      "Else block is executing...\n",
      "End of the program...\n"
     ]
    }
   ],
   "source": [
    "i = 1\n",
    "while (i <= 8):\n",
    "    print (f\"Looping with i = {i}...\")\n",
    "    # i = i + 1\n",
    "    i += 3\n",
    "else:\n",
    "    print (\"Else block is executing...\")\n",
    "print (\"End of the program...\")"
   ]
  },
  {
   "cell_type": "code",
   "execution_count": 36,
   "id": "409869c1-6bba-4268-a838-efd8345b7480",
   "metadata": {},
   "outputs": [
    {
     "name": "stdout",
     "output_type": "stream",
     "text": [
      "Looping with i = 10...\n",
      "Looping with i = 7...\n",
      "Looping with i = 4...\n",
      "Looping with i = 1...\n",
      "Else block is executing...\n",
      "End of the program...\n"
     ]
    }
   ],
   "source": [
    "i = 10\n",
    "while (i >= 1):\n",
    "    print (f\"Looping with i = {i}...\")\n",
    "    # i = i + 1\n",
    "    i -= 3\n",
    "else:\n",
    "    print (\"Else block is executing...\")\n",
    "print (\"End of the program...\")"
   ]
  },
  {
   "cell_type": "code",
   "execution_count": 37,
   "id": "397858b4-f078-4905-bd14-9665ec938727",
   "metadata": {},
   "outputs": [
    {
     "name": "stdout",
     "output_type": "stream",
     "text": [
      "Visit Doctor...\n",
      "Good Morning...\n",
      "Day No. = 1 and Medicine No. = 1...\n",
      "Day No. = 1 and Medicine No. = 2...\n",
      "Day No. = 1 and Medicine No. = 3...\n",
      "Good Night....\n",
      "----------------------------------------\n",
      "Good Morning...\n",
      "Day No. = 2 and Medicine No. = 1...\n",
      "Day No. = 2 and Medicine No. = 2...\n",
      "Day No. = 2 and Medicine No. = 3...\n",
      "Good Night....\n",
      "----------------------------------------\n",
      "Good Morning...\n",
      "Day No. = 3 and Medicine No. = 1...\n",
      "Day No. = 3 and Medicine No. = 2...\n",
      "Day No. = 3 and Medicine No. = 3...\n",
      "Good Night....\n",
      "----------------------------------------\n",
      "Good Morning...\n",
      "Day No. = 4 and Medicine No. = 1...\n",
      "Day No. = 4 and Medicine No. = 2...\n",
      "Day No. = 4 and Medicine No. = 3...\n",
      "Good Night....\n",
      "----------------------------------------\n",
      "Good Morning...\n",
      "Day No. = 5 and Medicine No. = 1...\n",
      "Day No. = 5 and Medicine No. = 2...\n",
      "Day No. = 5 and Medicine No. = 3...\n",
      "Good Night....\n",
      "----------------------------------------\n",
      "Thanks to Doctor...\n",
      "Total number of medicines consumed is 15...\n"
     ]
    }
   ],
   "source": [
    "print (\"Visit Doctor...\")   # 1 time\n",
    "medi_count = 0\n",
    "day = 1\n",
    "while (day <= 5):\n",
    "    print (\"Good Morning...\")   # 5 times\n",
    "    medi = 1\n",
    "    while (medi <= 3):\n",
    "        print (f\"Day No. = {day} and Medicine No. = {medi}...\")   # 15 times\n",
    "        medi_count += 1   # 15 times\n",
    "        medi += 1\n",
    "    print (\"Good Night....\")   # 5 times\n",
    "    print (\"----------------------------------------\")   # 5 times\n",
    "    day += 1\n",
    "else:\n",
    "    print (\"Thanks to Doctor...\")   # 1 time\n",
    "print (f\"Total number of medicines consumed is {medi_count}...\")"
   ]
  },
  {
   "cell_type": "code",
   "execution_count": 41,
   "id": "750bfe00-d08a-4883-8573-1a4fbaa24d54",
   "metadata": {},
   "outputs": [
    {
     "name": "stdout",
     "output_type": "stream",
     "text": [
      "Hello Hello Hello Hello Hello \n",
      "Welcome Welcome Welcome Welcome Welcome Welcome Welcome Welcome \n"
     ]
    }
   ],
   "source": [
    "print (\"Hello \" * 5)\n",
    "print (\"Welcome \" * 8)"
   ]
  },
  {
   "cell_type": "code",
   "execution_count": null,
   "id": "54f4b557-3cd8-4bf6-981d-a13974e26fd0",
   "metadata": {},
   "outputs": [],
   "source": [
    "Pattern - 1\n",
    "-----------\n",
    "n = 6 (User given integer)\n",
    "                 i   .   *\n",
    "               -------------\n",
    ".....*           1   5   1\n",
    "....***          2   4   3  . => (n - i)\n",
    "...*****         3   3   5\n",
    "..*******        4   2   7  * => (2 * i - 1)\n",
    ".*********       5   1   9\n",
    "***********      6   0  11\n",
    "               -------------\n",
    "               Tracing Table"
   ]
  },
  {
   "cell_type": "code",
   "execution_count": 44,
   "id": "1a40887a-edb9-4490-b30c-05ba4f7b4d4e",
   "metadata": {},
   "outputs": [
    {
     "name": "stdin",
     "output_type": "stream",
     "text": [
      "Please enter the number of layers of the pattern:  11\n"
     ]
    },
    {
     "name": "stdout",
     "output_type": "stream",
     "text": [
      "..........*\n",
      ".........***\n",
      "........*****\n",
      ".......*******\n",
      "......*********\n",
      ".....***********\n",
      "....*************\n",
      "...***************\n",
      "..*****************\n",
      ".*******************\n",
      "*********************\n",
      "End of the pattern printing...\n"
     ]
    }
   ],
   "source": [
    "n = int(input(\"Please enter the number of layers of the pattern: \"))\n",
    "for i in range(1, n + 1, 1):\n",
    "    print (\".\" * (n - i) + \"*\" * (2 * i - 1))\n",
    "print (\"End of the pattern printing...\")"
   ]
  },
  {
   "cell_type": "code",
   "execution_count": null,
   "id": "19194f09-aa2d-4778-b870-7457c0d9a3d8",
   "metadata": {},
   "outputs": [],
   "source": [
    "Pattern - 2\n",
    "-----------\n",
    "n = 6 (User given integer)\n",
    "                 i   .   *\n",
    "               -------------\n",
    "***********      1   0  11\n",
    ".*********       2   1   9  . => (i - 1)\n",
    "..*******        3   2   7\n",
    "...*****         4   3   5  * => (2 * (n - i) + 1)\n",
    "....***          5   4   3\n",
    ".....*           6   5   1\n",
    "               -------------\n",
    "               Tracing Table"
   ]
  },
  {
   "cell_type": "code",
   "execution_count": 47,
   "id": "d5110ea7-3520-4f67-a49d-3036f6b98f60",
   "metadata": {},
   "outputs": [
    {
     "name": "stdin",
     "output_type": "stream",
     "text": [
      "Please enter the number of layers of the pattern:  6\n"
     ]
    },
    {
     "name": "stdout",
     "output_type": "stream",
     "text": [
      "***********\n",
      ".*********\n",
      "..*******\n",
      "...*****\n",
      "....***\n",
      ".....*\n",
      "End of the pattern printing...\n"
     ]
    }
   ],
   "source": [
    "n = int(input(\"Please enter the number of layers of the pattern: \"))\n",
    "for i in range(1, n + 1, 1):\n",
    "    print (\".\" * (i - 1) + \"*\" * (2 * (n - i) + 1))\n",
    "print (\"End of the pattern printing...\")"
   ]
  },
  {
   "cell_type": "code",
   "execution_count": null,
   "id": "237c984b-0ccf-4926-889a-c96ae737ae31",
   "metadata": {},
   "outputs": [],
   "source": [
    "Pattern - 3\n",
    "-----------\n",
    "n = 11 (User given ODD integer), m = (n + 1) // 2 = 6\n",
    "                 i   .   *\n",
    "               -------------\n",
    ".....*           1   5   1       i, n, m\n",
    "....***          2   4   3  . => (m - i)\n",
    "...*****         3   3   5\n",
    "..*******        4   2   7  * => (2 * i - 1)\n",
    ".*********       5   1   9\n",
    "***********    __6___0__11__\n",
    ".*********       7   1   9\n",
    "..*******        8   2   7  . => (i - m)\n",
    "...*****         9   3   5\n",
    "....***         10   4   3  * => (2 * (n - i) + 1)\n",
    ".....*          11   5   1\n",
    "               -------------\n",
    "               Tracing Table"
   ]
  },
  {
   "cell_type": "code",
   "execution_count": 54,
   "id": "1d85615c-6588-4e21-a734-e8aefdf9c6b7",
   "metadata": {},
   "outputs": [
    {
     "name": "stdin",
     "output_type": "stream",
     "text": [
      "Please enter the ODD number of layers of the pattern:  21\n"
     ]
    },
    {
     "name": "stdout",
     "output_type": "stream",
     "text": [
      "..........*\n",
      ".........***\n",
      "........*****\n",
      ".......*******\n",
      "......*********\n",
      ".....***********\n",
      "....*************\n",
      "...***************\n",
      "..*****************\n",
      ".*******************\n",
      "*********************\n",
      ".*******************\n",
      "..*****************\n",
      "...***************\n",
      "....*************\n",
      ".....***********\n",
      "......*********\n",
      ".......*******\n",
      "........*****\n",
      ".........***\n",
      "..........*\n",
      "End of the pattern printing...\n"
     ]
    }
   ],
   "source": [
    "while (True):\n",
    "    n = int(input(\"Please enter the ODD number of layers of the pattern: \"))\n",
    "    if (n % 2 == 1): break\n",
    "m = (n + 1) // 2\n",
    "for i in range(1, n + 1, 1):\n",
    "    if (i > m): b = (i - m); s = (2 * (n - i) + 1)\n",
    "    else: b = (m - i); s = (2 * i - 1)\n",
    "    print (\".\" * b + \"*\" * s)\n",
    "print (\"End of the pattern printing...\")"
   ]
  },
  {
   "cell_type": "markdown",
   "id": "490fabfc-f079-4633-a58c-de5950dc24dc",
   "metadata": {},
   "source": [
    "### User Defined Function"
   ]
  },
  {
   "cell_type": "code",
   "execution_count": 3,
   "id": "cafba675-5820-44fc-8bae-b5e2ebcced7e",
   "metadata": {},
   "outputs": [
    {
     "name": "stdout",
     "output_type": "stream",
     "text": [
      "Welcome Welcome Welcome Welcome Welcome \n",
      "Welcome Welcome Welcome Welcome Welcome \n",
      "Welcome Welcome Welcome Welcome Welcome \n"
     ]
    }
   ],
   "source": [
    "def funct1():\n",
    "    print (\"Welcome \" * 5)\n",
    "    \n",
    "funct1()\n",
    "funct1()\n",
    "funct1()"
   ]
  },
  {
   "cell_type": "code",
   "execution_count": 6,
   "id": "3cfe3cb3-84be-4312-bc8e-c839ca85f4a2",
   "metadata": {},
   "outputs": [
    {
     "name": "stdout",
     "output_type": "stream",
     "text": [
      "Welcome Welcome Welcome Welcome \n",
      "Bye !!! Bye !!! Bye !!! Bye !!! Bye !!! Bye !!! \n",
      "Best of luck. Best of luck. Best of luck. \n"
     ]
    }
   ],
   "source": [
    "def funct2(msg, times):   # positional parameters\n",
    "    print (msg * times)\n",
    "    \n",
    "funct2(\"Welcome \", 4)     # positional arguments\n",
    "funct2(\"Bye !!! \", 6)\n",
    "funct2(\"Best of luck. \", 3)"
   ]
  },
  {
   "cell_type": "code",
   "execution_count": 7,
   "id": "cd72fe70-e4e3-4f9f-b992-0e3331d533c2",
   "metadata": {},
   "outputs": [
    {
     "name": "stdout",
     "output_type": "stream",
     "text": [
      "Welcome Welcome Welcome Welcome \n",
      "Bye... Bye... Bye... Bye... Bye... \n",
      "Hi !!! Hi !!! \n"
     ]
    }
   ],
   "source": [
    "def funct3(msg, times):\n",
    "    return msg * times\n",
    "\n",
    "result = funct3(\"Welcome \", 4)\n",
    "print (result)\n",
    "result = funct3(\"Bye... \", 5)\n",
    "print (result)\n",
    "print (funct3(\"Hi !!! \", 2))"
   ]
  },
  {
   "cell_type": "code",
   "execution_count": 16,
   "id": "a47da2b8-f953-4f85-a9af-98e5be9c02be",
   "metadata": {},
   "outputs": [
    {
     "name": "stdout",
     "output_type": "stream",
     "text": [
      "par1 = 100, par2 = 200 and par3 = 300...\n",
      "par1 = 100, par2 = 200 and par3 = 333...\n",
      "par1 = 100, par2 = 222 and par3 = 333...\n",
      "par1 = 111, par2 = 222 and par3 = 333...\n",
      "par1 = 100, par2 = 222 and par3 = 300...\n",
      "par1 = 100, par2 = 222 and par3 = 300...\n"
     ]
    }
   ],
   "source": [
    "# function with default arguments\n",
    "def funct4(par1 = 111, par2 = 222, par3 = 333):   # positional parameters\n",
    "    print (f\"par1 = {par1}, par2 = {par2} and par3 = {par3}...\")\n",
    "    \n",
    "funct4(100, 200, 300)    # positional arguments\n",
    "funct4(100, 200)\n",
    "funct4(100)\n",
    "funct4()\n",
    "funct4(par1 = 100, par3 = 300)\n",
    "funct4(par3 = 300, par1 = 100)"
   ]
  },
  {
   "cell_type": "code",
   "execution_count": 18,
   "id": "316f8f96-40d3-46b6-ac92-3d123c662ffd",
   "metadata": {},
   "outputs": [
    {
     "name": "stdout",
     "output_type": "stream",
     "text": [
      "600\n",
      "200\n"
     ]
    }
   ],
   "source": [
    "def funct5(num1, num2 = None):\n",
    "    # if (num2 == None):\n",
    "    if (num2 is None):\n",
    "        return num1 + num1\n",
    "    else:\n",
    "        return num1 + num2\n",
    "    \n",
    "print (funct5(100, 500))\n",
    "print (funct5(100))"
   ]
  },
  {
   "cell_type": "code",
   "execution_count": 22,
   "id": "7582ed14-85bd-4d3f-a052-27d4bcf5b8b6",
   "metadata": {},
   "outputs": [
    {
     "name": "stdout",
     "output_type": "stream",
     "text": [
      "Total = 140, Difference = 60, Product = 4000 and Quotient = 2.5...\n",
      "(140, 60, 4000, 2.5) 4 <class 'tuple'>\n",
      "Total = 140, Difference = 60, Product = 4000 and Quotient = 2.5...\n"
     ]
    }
   ],
   "source": [
    "# function returning muitple arguments\n",
    "def funct6(num1, num2):\n",
    "    total = num1 + num2\n",
    "    difference = num1 - num2\n",
    "    product = num1 * num2\n",
    "    quotient = num1 / num2\n",
    "    return total, difference, product, quotient\n",
    "\n",
    "tot, dif, prod, quo = funct6(100, 40)\n",
    "print (f\"Total = {tot}, Difference = {dif}, Product = {prod} and Quotient = {quo}...\")\n",
    "result = funct6(100, 40)\n",
    "print (result, len(result), type(result))\n",
    "print (f\"Total = {result[0]}, Difference = {result[1]}, Product = {result[2]} and Quotient = {result[3]}...\")"
   ]
  },
  {
   "cell_type": "code",
   "execution_count": 25,
   "id": "75b18aa4-fb5d-4a65-a6cb-59fa18e480c0",
   "metadata": {},
   "outputs": [
    {
     "name": "stdout",
     "output_type": "stream",
     "text": [
      "('Amitava', 'Developer', 'Male') 3 <class 'tuple'> 1922799598336\n",
      "('Amitava', 'Developer', 'Male', 'Texas', 3500) 5 <class 'tuple'> 1922795125024\n",
      "('Amitava', 'Developer', 'Male', 'Texas', 3500, 'Married') 6 <class 'tuple'> 1922809930816\n"
     ]
    }
   ],
   "source": [
    "# function with variable number of input arguments\n",
    "def funct7(*arg):   # here *arg indicates that forcefully we are declaring arg as a tuple type of object\n",
    "    print (arg, len(arg), type(arg), id(arg))\n",
    "    \n",
    "funct7(\"Amitava\", \"Developer\", \"Male\")\n",
    "funct7(\"Amitava\", \"Developer\", \"Male\", \"Texas\", 3500)\n",
    "funct7(\"Amitava\", \"Developer\", \"Male\", \"Texas\", 3500, \"Married\")"
   ]
  },
  {
   "cell_type": "code",
   "execution_count": 26,
   "id": "b2d4ef43-952e-4196-9806-346151c0157f",
   "metadata": {},
   "outputs": [
    {
     "name": "stdout",
     "output_type": "stream",
     "text": [
      "{'name': 'Amitava', 'job': 'Developer', 'gender': 'Male'} 3 <class 'dict'> 1922807389184\n",
      "{'name': 'Amitava', 'job': 'Developer', 'gender': 'Male', 'salary': 3500} 4 <class 'dict'> 1922800927040\n",
      "{'name': 'Amitava', 'job': 'Developer', 'gender': 'Male', 'location': 'Texas', 'salary': 3500, 'status': 'Married'} 6 <class 'dict'> 1922807389888\n"
     ]
    }
   ],
   "source": [
    "def funct8(**kwarg):   # here **kwarg indicates that forcefully we are declaring kwarg as a dictionary type of object\n",
    "    print (kwarg, len(kwarg), type(kwarg), id(kwarg))\n",
    "    \n",
    "funct8(name=\"Amitava\", job=\"Developer\", gender=\"Male\")\n",
    "funct8(name=\"Amitava\", job=\"Developer\", gender=\"Male\", salary=3500)\n",
    "funct8(name=\"Amitava\", job=\"Developer\", gender=\"Male\", location=\"Texas\", salary=3500, status=\"Married\")"
   ]
  },
  {
   "cell_type": "code",
   "execution_count": 38,
   "id": "95a2d8d4-c794-4cad-b4b7-f127d795fbbd",
   "metadata": {},
   "outputs": [
    {
     "name": "stdout",
     "output_type": "stream",
     "text": [
      "('Amitava', 'Developer', 'Male') 3 <class 'tuple'> 1922801852416\n",
      "{'location': 'Texas', 'salary': 3500, 'status': 'Married'} 3 <class 'dict'> 1922801346304\n",
      "\n",
      "('Amitava', 'Developer', 'Male') 3 <class 'tuple'> 1922795385472\n",
      "{} 0 <class 'dict'> 1922801336832\n",
      "\n",
      "() 0 <class 'tuple'> 1922680569968\n",
      "{'location': 'Texas', 'salary': 3500, 'status': 'Married'} 3 <class 'dict'> 1922798327680\n",
      "<class 'function'>\n"
     ]
    }
   ],
   "source": [
    "def funct9(*arg, **kwarg):   # here **kwarg indicates that forcefully we are declaring kwarg as a dictionary type of object\n",
    "    print (arg, len(arg), type(arg), id(arg))\n",
    "    print (kwarg, len(kwarg), type(kwarg), id(kwarg))\n",
    "    \n",
    "funct9(\"Amitava\", \"Developer\", \"Male\", location=\"Texas\", salary=3500, status=\"Married\")\n",
    "print ()\n",
    "funct9(\"Amitava\", \"Developer\", \"Male\")\n",
    "print ()\n",
    "funct9(location=\"Texas\", salary=3500, status=\"Married\")\n",
    "print (type(funct9))"
   ]
  },
  {
   "cell_type": "code",
   "execution_count": 29,
   "id": "1e172930-b256-4669-b57c-b835a057de44",
   "metadata": {},
   "outputs": [
    {
     "name": "stdout",
     "output_type": "stream",
     "text": [
      "120\n",
      "720\n"
     ]
    }
   ],
   "source": [
    "# non-recursive (iterative) factorial function\n",
    "# 5! = 1 * 2 * 3 * 4 * 5 = 5 * 4 * 3 * 2 * 1 = 120\n",
    "# 6! = 1 * 2 * 3 * 4 * 5 * 6 = 6 * 5 * 4 * 3 * 2 * 1 = 720\n",
    "def factorial_nr(num):\n",
    "    if (num == 0 or num == 1):   # 0! = 1! = 1\n",
    "        return 1\n",
    "    fact = 1\n",
    "    for i in range(1, num + 1):\n",
    "        fact = fact * i\n",
    "    return fact\n",
    "\n",
    "print (factorial_nr(5))\n",
    "print (factorial_nr(6))"
   ]
  },
  {
   "cell_type": "code",
   "execution_count": 32,
   "id": "c6768ba6-495c-47ca-8715-7f1fe341c765",
   "metadata": {},
   "outputs": [
    {
     "name": "stdout",
     "output_type": "stream",
     "text": [
      "120\n",
      "720\n"
     ]
    }
   ],
   "source": [
    "# recursive factorial function\n",
    "# 5! = 1 * 2 * 3 * 4 * 5 = 5 * 4 * 3 * 2 * 1 = 120\n",
    "# 6! = 1 * 2 * 3 * 4 * 5 * 6 = 6 * 5 * 4 * 3 * 2 * 1 = 720\n",
    "# n! = n * (n - 1)!\n",
    "def factorial_r(num):\n",
    "    if (num == 0 or num == 1):   # base case: for certain inputs, outputs are pre-known to us\n",
    "        return 1\n",
    "    return num * factorial_r(num - 1)   # recursive case: the function will call itself\n",
    "\n",
    "print (factorial_r(5))\n",
    "print (factorial_r(6))"
   ]
  },
  {
   "cell_type": "code",
   "execution_count": null,
   "id": "84b43d37-d3f0-4b66-a618-334a60d6dc72",
   "metadata": {},
   "outputs": [],
   "source": [
    "5! = 5 * 4!\n",
    "         4 * 3!\n",
    "             3 * 2!\n",
    "                 2 * 1!\n",
    "                     1\n",
    "                 2\n",
    "             6\n",
    "         24\n",
    "     120"
   ]
  },
  {
   "cell_type": "code",
   "execution_count": 35,
   "id": "24d93045-e091-4809-bb3c-f2df303efae9",
   "metadata": {},
   "outputs": [
    {
     "name": "stdout",
     "output_type": "stream",
     "text": [
      "num = 100 and it is EVEN...\n",
      "num = 101 and it is ODD...\n"
     ]
    }
   ],
   "source": [
    "# ternary operator\n",
    "num = 100\n",
    "result = \"EVEN\" if (num % 2 == 0) else \"ODD\"\n",
    "print (f\"num = {num} and it is {result}...\")\n",
    "\n",
    "num = 101\n",
    "result = \"EVEN\" if (num % 2 == 0) else \"ODD\"\n",
    "print (f\"num = {num} and it is {result}...\")"
   ]
  },
  {
   "cell_type": "markdown",
   "id": "f2988b08-9696-4690-b924-680ad8148b30",
   "metadata": {},
   "source": [
    "### Lambda Function"
   ]
  },
  {
   "cell_type": "code",
   "execution_count": 39,
   "id": "d7aab41c-e421-42fa-b381-9aa4f3a9121b",
   "metadata": {},
   "outputs": [
    {
     "name": "stdout",
     "output_type": "stream",
     "text": [
      "<class 'function'>\n",
      "25\n",
      "36\n",
      "49\n"
     ]
    }
   ],
   "source": [
    "mysquare = lambda num: num * num\n",
    "print (type(mysquare))\n",
    "print (mysquare(5))\n",
    "print (mysquare(6))\n",
    "print (mysquare(7))"
   ]
  },
  {
   "cell_type": "code",
   "execution_count": 40,
   "id": "8ca158fc-564f-4d86-9077-7cd1fa2e332b",
   "metadata": {},
   "outputs": [
    {
     "name": "stdout",
     "output_type": "stream",
     "text": [
      "300\n"
     ]
    }
   ],
   "source": [
    "def myadd(num1, num2):\n",
    "    result = num1 + num2\n",
    "    return result\n",
    "\n",
    "n1 = 100\n",
    "n2 = 200\n",
    "outcome = myadd(n1, n2)\n",
    "print (outcome)"
   ]
  },
  {
   "cell_type": "code",
   "execution_count": 41,
   "id": "1bfdb8f8-fd6c-46f4-bbd2-ef0962490392",
   "metadata": {},
   "outputs": [
    {
     "name": "stdout",
     "output_type": "stream",
     "text": [
      "<class 'function'>\n",
      "700\n",
      "1300\n",
      "1700\n"
     ]
    }
   ],
   "source": [
    "myaddition = lambda num1, num2: num1 + num2\n",
    "print (type(myaddition))\n",
    "print (myaddition(500, 200))\n",
    "print (myaddition(600, 700))\n",
    "print (myaddition(700, 1000))"
   ]
  },
  {
   "cell_type": "code",
   "execution_count": 42,
   "id": "f110c12c-6405-4bb7-bf96-c0fa570768e2",
   "metadata": {},
   "outputs": [
    {
     "name": "stdout",
     "output_type": "stream",
     "text": [
      "120\n",
      "720\n"
     ]
    }
   ],
   "source": [
    "myfactorial = lambda num: 1 if (num == 0 or num == 1) else num * myfactorial(num - 1)\n",
    "print (myfactorial(5))\n",
    "print (myfactorial(6))"
   ]
  },
  {
   "cell_type": "markdown",
   "id": "466f92e4-e5ca-4f23-bc89-6e6070f925a7",
   "metadata": {},
   "source": [
    "### Import Module"
   ]
  },
  {
   "cell_type": "code",
   "execution_count": 43,
   "id": "7d005d5c-088a-4254-9099-79074e5ae873",
   "metadata": {},
   "outputs": [],
   "source": [
    "# importing required module\n",
    "import math"
   ]
  },
  {
   "cell_type": "code",
   "execution_count": 58,
   "id": "937d43f6-80ef-4e4f-9443-53c4a6d27b02",
   "metadata": {},
   "outputs": [
    {
     "name": "stdout",
     "output_type": "stream",
     "text": [
      "0.0 1.0 0.0 0.0\n",
      "5 900\n",
      "120 720\n",
      "3.141592653589793 2.718281828459045 6.283185307179586\n",
      "2.302585092994046 2.302585092994046\n",
      "10.0 10.0 3.0 2.9999999999999996\n",
      "200.9975124224178\n",
      "1000.0 1000 1000.0\n"
     ]
    }
   ],
   "source": [
    "print (math.sin(0), math.cos(0), math.tan(0), math.sinh(0))\n",
    "print (math.gcd(100, 45), math.lcm(100, 45))\n",
    "print (math.factorial(5), math.factorial(6))\n",
    "print (math.pi, math.e, math.tau)\n",
    "print (math.log(10), math.log(10, math.e))\n",
    "print (math.log2(1024), math.log(1024, 2), math.log10(1000), math.log(1000, 10))\n",
    "print (math.dist((100, 20), (300, 40)))\n",
    "print (math.pow(10, 3), 10 ** 3, 10.0 ** 3)"
   ]
  },
  {
   "cell_type": "code",
   "execution_count": 59,
   "id": "d56c0f35-f76d-4b5c-9c51-5f01913c1edb",
   "metadata": {},
   "outputs": [
    {
     "name": "stdout",
     "output_type": "stream",
     "text": [
      "Help on built-in function pow in module math:\n",
      "\n",
      "pow(x, y, /)\n",
      "    Return x**y (x to the power of y).\n",
      "\n"
     ]
    }
   ],
   "source": [
    "help(math.pow)"
   ]
  },
  {
   "cell_type": "code",
   "execution_count": null,
   "id": "47f91623-27f5-4aa9-81b6-317356b5162d",
   "metadata": {},
   "outputs": [],
   "source": [
    "help(math)"
   ]
  },
  {
   "cell_type": "markdown",
   "id": "9cfd1029-106d-45ed-ad7b-92b2a1ff4a83",
   "metadata": {},
   "source": [
    "### String Proessing"
   ]
  },
  {
   "cell_type": "code",
   "execution_count": null,
   "id": "809c029f-a148-48eb-9e00-00b8007d578c",
   "metadata": {},
   "outputs": [],
   "source": [
    "LtoR ->  0  1  2  3  4  5  6  7  8  9\n",
    "mystr = \"u  n  i  v  e  r  s  i  t  y\"\n",
    "RtoL ->-10 -9 -8 -7 -6 -5 -4 -3 -2 -1  "
   ]
  },
  {
   "cell_type": "code",
   "execution_count": 10,
   "id": "d5950733-a73d-4653-bd5e-6ca09577135f",
   "metadata": {},
   "outputs": [
    {
     "name": "stdout",
     "output_type": "stream",
     "text": [
      "university 10 <class 'str'> 3141995670576\n",
      "i i i i\n",
      "sity sity univer univer\n",
      "ver ver ver ver\n"
     ]
    }
   ],
   "source": [
    "mystr = \"university\"\n",
    "print (mystr, len(mystr), type(mystr), id(mystr))\n",
    "print (mystr[2], mystr[-8], mystr[7], mystr[-3])  # string indexing\n",
    "print (mystr[6:], mystr[-4:], mystr[:6], mystr[:-4])\n",
    "print (mystr[3:6], mystr[-7:-4], mystr[3:-4], mystr[-7:6])  # string slicing"
   ]
  },
  {
   "cell_type": "code",
   "execution_count": 11,
   "id": "779fa5f3-57ee-49dd-aff9-45b1c2182fd4",
   "metadata": {},
   "outputs": [
    {
     "name": "stdout",
     "output_type": "stream",
     "text": [
      "cheNNAi unIVersiTY 18\n",
      "CHENNAI UNIVERSITY\n",
      "chennai university\n",
      "Chennai university\n",
      "Chennai University\n",
      "CHEnnaI UNivERSIty\n",
      "           cheNNAi unIVersiTY           \n"
     ]
    }
   ],
   "source": [
    "mystr = \"cheNNAi unIVersiTY\"\n",
    "print (mystr, len(mystr))\n",
    "print (mystr.upper())\n",
    "print (mystr.lower())\n",
    "print (mystr.capitalize())\n",
    "print (mystr.title())\n",
    "print (mystr.swapcase())\n",
    "print (mystr.center(40))"
   ]
  },
  {
   "cell_type": "code",
   "execution_count": 16,
   "id": "1a196fff-2a18-4c4f-ad78-4dc614729a26",
   "metadata": {},
   "outputs": [
    {
     "name": "stdout",
     "output_type": "stream",
     "text": [
      "charity begins at home 22\n",
      "4 4 11\n",
      "-1\n"
     ]
    }
   ],
   "source": [
    "mystr = \"charity begins at home\"\n",
    "print (mystr, len(mystr))\n",
    "print (mystr.find(\"ity\"), mystr.find(\"i\"), mystr.find(\"i\", 5))\n",
    "print (mystr.find(\"i\", 12))"
   ]
  },
  {
   "cell_type": "code",
   "execution_count": 18,
   "id": "c49b4514-fc47-4caa-9b7b-5e684e9e2750",
   "metadata": {},
   "outputs": [
    {
     "name": "stdout",
     "output_type": "stream",
     "text": [
      "charity begins at home 22\n",
      "4 4 11\n"
     ]
    },
    {
     "ename": "ValueError",
     "evalue": "substring not found",
     "output_type": "error",
     "traceback": [
      "\u001b[1;31m---------------------------------------------------------------------------\u001b[0m",
      "\u001b[1;31mValueError\u001b[0m                                Traceback (most recent call last)",
      "Cell \u001b[1;32mIn[18], line 4\u001b[0m\n\u001b[0;32m      2\u001b[0m \u001b[38;5;28mprint\u001b[39m (mystr, \u001b[38;5;28mlen\u001b[39m(mystr))\n\u001b[0;32m      3\u001b[0m \u001b[38;5;28mprint\u001b[39m (mystr\u001b[38;5;241m.\u001b[39mindex(\u001b[38;5;124m\"\u001b[39m\u001b[38;5;124mity\u001b[39m\u001b[38;5;124m\"\u001b[39m), mystr\u001b[38;5;241m.\u001b[39mindex(\u001b[38;5;124m\"\u001b[39m\u001b[38;5;124mi\u001b[39m\u001b[38;5;124m\"\u001b[39m), mystr\u001b[38;5;241m.\u001b[39mindex(\u001b[38;5;124m\"\u001b[39m\u001b[38;5;124mi\u001b[39m\u001b[38;5;124m\"\u001b[39m, \u001b[38;5;241m5\u001b[39m))\n\u001b[1;32m----> 4\u001b[0m \u001b[38;5;28mprint\u001b[39m (\u001b[43mmystr\u001b[49m\u001b[38;5;241;43m.\u001b[39;49m\u001b[43mindex\u001b[49m\u001b[43m(\u001b[49m\u001b[38;5;124;43m\"\u001b[39;49m\u001b[38;5;124;43mi\u001b[39;49m\u001b[38;5;124;43m\"\u001b[39;49m\u001b[43m,\u001b[49m\u001b[43m \u001b[49m\u001b[38;5;241;43m12\u001b[39;49m\u001b[43m)\u001b[49m)\n",
      "\u001b[1;31mValueError\u001b[0m: substring not found"
     ]
    }
   ],
   "source": [
    "mystr = \"charity begins at home\"\n",
    "print (mystr, len(mystr))\n",
    "print (mystr.index(\"ity\"), mystr.index(\"i\"), mystr.index(\"i\", 5))\n",
    "print (mystr.index(\"i\", 12))"
   ]
  },
  {
   "cell_type": "code",
   "execution_count": 26,
   "id": "772547e8-3c44-4a7a-9c19-fc4d55765e4e",
   "metadata": {},
   "outputs": [
    {
     "name": "stdout",
     "output_type": "stream",
     "text": [
      "    calcutta    university      31\n",
      "calcutta    university 22\n",
      "calcutta    university      27\n",
      "    calcutta    university 26\n"
     ]
    }
   ],
   "source": [
    "mystr = \"    calcutta    university     \"\n",
    "print (mystr, len(mystr))\n",
    "print (mystr.strip(), len(mystr.strip()))\n",
    "print (mystr.lstrip(), len(mystr.lstrip()))\n",
    "print (mystr.rstrip(), len(mystr.rstrip()))"
   ]
  },
  {
   "cell_type": "code",
   "execution_count": 28,
   "id": "b8f54032-8d23-4f62-b6ed-423d32acf0b2",
   "metadata": {},
   "outputs": [
    {
     "name": "stdout",
     "output_type": "stream",
     "text": [
      "#@##calcutta@#@##university@@##@ 32\n",
      "calcutta@#@##university 23\n",
      "calcutta@#@##university@@##@ 28\n",
      "#@##calcutta@#@##university 27\n"
     ]
    }
   ],
   "source": [
    "mystr = \"#@##calcutta@#@##university@@##@\"\n",
    "print (mystr, len(mystr))\n",
    "print (mystr.strip(\"#@\"), len(mystr.strip(\"#@\")))\n",
    "print (mystr.lstrip(\"#@\"), len(mystr.lstrip(\"#@\")))\n",
    "print (mystr.rstrip(\"#@\"), len(mystr.rstrip(\"#@\")))"
   ]
  },
  {
   "cell_type": "code",
   "execution_count": 34,
   "id": "c6b7d9c8-294d-4ead-a5db-0d3d6b869bc4",
   "metadata": {},
   "outputs": [
    {
     "name": "stdout",
     "output_type": "stream",
     "text": [
      "charity begins at home 22\n",
      "True False True\n",
      "True False False\n"
     ]
    }
   ],
   "source": [
    "mystr = \"charity begins at home\"\n",
    "print (mystr, len(mystr))\n",
    "print (mystr.startswith(\"cha\"), mystr.startswith(\"beg\"), mystr.startswith(\"beg\", 8))\n",
    "print (mystr.endswith(\"ome\"), mystr.endswith(\"OME\"), mystr.endswith(\"beg\", 8))"
   ]
  },
  {
   "cell_type": "code",
   "execution_count": 37,
   "id": "282e7c78-8b7b-4cab-b3d3-6f4bc6c1b848",
   "metadata": {},
   "outputs": [
    {
     "name": "stdout",
     "output_type": "stream",
     "text": [
      "university 10\n",
      "2 1\n"
     ]
    }
   ],
   "source": [
    "mystr = \"university\"\n",
    "print (mystr, len(mystr))\n",
    "print (mystr.count(\"i\"), mystr.count(\"s\"))"
   ]
  },
  {
   "cell_type": "code",
   "execution_count": 38,
   "id": "b5e52e51-89fa-4230-8625-0223fd81ab7f",
   "metadata": {},
   "outputs": [
    {
     "name": "stdout",
     "output_type": "stream",
     "text": [
      "university 10\n",
      "unxversxty\n"
     ]
    }
   ],
   "source": [
    "mystr = \"university\"\n",
    "print (mystr, len(mystr))\n",
    "mystr = mystr.replace(\"i\", \"x\")\n",
    "print (mystr)"
   ]
  },
  {
   "cell_type": "code",
   "execution_count": 43,
   "id": "5ed9231b-9eed-4297-9fe6-8943f149214b",
   "metadata": {},
   "outputs": [
    {
     "name": "stdout",
     "output_type": "stream",
     "text": [
      "True True False False\n",
      "False True True True\n",
      "False True False False\n",
      "False False False False\n"
     ]
    }
   ],
   "source": [
    "mystr = \"ABCD\"\n",
    "print (mystr.isalpha(), mystr.isalnum(), mystr.isdigit(), mystr.isnumeric())\n",
    "mystr = \"1234\"\n",
    "print (mystr.isalpha(), mystr.isalnum(), mystr.isdigit(), mystr.isnumeric())\n",
    "mystr = \"1234ABCD\"\n",
    "print (mystr.isalpha(), mystr.isalnum(), mystr.isdigit(), mystr.isnumeric())\n",
    "mystr = \"1234@#$ABCD\"\n",
    "print (mystr.isalpha(), mystr.isalnum(), mystr.isdigit(), mystr.isnumeric())"
   ]
  },
  {
   "cell_type": "markdown",
   "id": "70fe5246-ef04-4a83-8b8a-55edad58825c",
   "metadata": {},
   "source": [
    "### List Proessing"
   ]
  },
  {
   "cell_type": "code",
   "execution_count": 44,
   "id": "9ca731b2-008c-4c3d-a582-9d019857a19a",
   "metadata": {},
   "outputs": [
    {
     "name": "stdout",
     "output_type": "stream",
     "text": [
      "['Mon', 'Tue', 'Thus', 'Sat', 'Fri'] 5\n",
      "Tue Fri\n"
     ]
    }
   ],
   "source": [
    "list1 = [\"Mon\", \"Tue\", \"Thus\", \"Sat\", \"Fri\"]\n",
    "print (list1, len(list1))\n",
    "print (max(list1), min(list1))"
   ]
  },
  {
   "cell_type": "code",
   "execution_count": 48,
   "id": "e73bf432-e245-4064-ade4-03645da6e559",
   "metadata": {},
   "outputs": [
    {
     "name": "stdout",
     "output_type": "stream",
     "text": [
      "[100, 400, 200, 300, 500] 5\n",
      "500 100\n",
      "1500 300.0\n"
     ]
    }
   ],
   "source": [
    "list1 = [100, 400, 200, 300, 500]\n",
    "print (list1, len(list1))\n",
    "print (max(list1), min(list1))\n",
    "print (sum(list1), sum(list1) / len(list1))"
   ]
  },
  {
   "cell_type": "code",
   "execution_count": 51,
   "id": "03f448a3-8b83-4558-8ed8-a0abd43a8513",
   "metadata": {},
   "outputs": [
    {
     "name": "stdout",
     "output_type": "stream",
     "text": [
      "[100, 400, 'abcd', 200, 300, 500] 6\n"
     ]
    },
    {
     "ename": "TypeError",
     "evalue": "'>' not supported between instances of 'str' and 'int'",
     "output_type": "error",
     "traceback": [
      "\u001b[1;31m---------------------------------------------------------------------------\u001b[0m",
      "\u001b[1;31mTypeError\u001b[0m                                 Traceback (most recent call last)",
      "Cell \u001b[1;32mIn[51], line 3\u001b[0m\n\u001b[0;32m      1\u001b[0m list1 \u001b[38;5;241m=\u001b[39m [\u001b[38;5;241m100\u001b[39m, \u001b[38;5;241m400\u001b[39m, \u001b[38;5;124m\"\u001b[39m\u001b[38;5;124mabcd\u001b[39m\u001b[38;5;124m\"\u001b[39m, \u001b[38;5;241m200\u001b[39m, \u001b[38;5;241m300\u001b[39m, \u001b[38;5;241m500\u001b[39m]\n\u001b[0;32m      2\u001b[0m \u001b[38;5;28mprint\u001b[39m (list1, \u001b[38;5;28mlen\u001b[39m(list1))\n\u001b[1;32m----> 3\u001b[0m \u001b[38;5;28mprint\u001b[39m (\u001b[38;5;28;43mmax\u001b[39;49m\u001b[43m(\u001b[49m\u001b[43mlist1\u001b[49m\u001b[43m)\u001b[49m, \u001b[38;5;28mmin\u001b[39m(list1))\n\u001b[0;32m      4\u001b[0m \u001b[38;5;28mprint\u001b[39m (\u001b[38;5;28msum\u001b[39m(list1), \u001b[38;5;28msum\u001b[39m(list1) \u001b[38;5;241m/\u001b[39m \u001b[38;5;28mlen\u001b[39m(list1))\n",
      "\u001b[1;31mTypeError\u001b[0m: '>' not supported between instances of 'str' and 'int'"
     ]
    }
   ],
   "source": [
    "list1 = [100, 400, \"abcd\", 200, 300, 500]\n",
    "print (list1, len(list1))\n",
    "print (max(list1), min(list1))\n",
    "print (sum(list1), sum(list1) / len(list1))"
   ]
  },
  {
   "cell_type": "code",
   "execution_count": 54,
   "id": "2429b929-19a2-43e9-9689-1d289b8e07df",
   "metadata": {},
   "outputs": [
    {
     "name": "stdout",
     "output_type": "stream",
     "text": [
      "[100, 400, 200, 300, 500] 5\n",
      "[400, 200, 300] [400, 200, 300]\n",
      "[400, 200, 300] [400, 200, 300]\n"
     ]
    }
   ],
   "source": [
    "# Index  0    1    2    3    4\n",
    "list1 = [100, 400, 200, 300, 500]\n",
    "print (list1, len(list1))\n",
    "print (list1[1:4], list1[1:-1])\n",
    "print (list1[-4:-1], list1[-4:4])"
   ]
  },
  {
   "cell_type": "code",
   "execution_count": 82,
   "id": "8981f69f-8014-4dcd-b250-ff7f65800722",
   "metadata": {},
   "outputs": [
    {
     "name": "stdout",
     "output_type": "stream",
     "text": [
      "['Monday', 'Tuesday', 'Wednesday']\n",
      "['Friday', 'Thursday']\n",
      "['Monday', 'Tuesday', 'Wednesday', 'Friday', 'Thursday']\n",
      "[['Monday', 'Tuesday', 'Wednesday'], ['Friday', 'Thursday']]\n",
      "['Monday', 'Tuesday', 'Wednesday', 'Friday', 'Thursday']\n",
      "['Friday', 'Thursday']\n"
     ]
    }
   ],
   "source": [
    "list1 = [\"Monday\", \"Tuesday\", \"Wednesday\"]\n",
    "list2 = [\"Friday\", \"Thursday\"]\n",
    "print (list1)\n",
    "print (list2)\n",
    "print (list1 + list2)\n",
    "print ([list1, list2])\n",
    "list1.extend(list2)\n",
    "print (list1)\n",
    "print (list2)"
   ]
  },
  {
   "cell_type": "code",
   "execution_count": 80,
   "id": "17608dbe-ec99-4039-a382-7e4ea267d2b7",
   "metadata": {},
   "outputs": [
    {
     "name": "stdout",
     "output_type": "stream",
     "text": [
      "['Monday', 'Tuesday', 'Wednesday'] 3\n",
      "['Monday', 'Tuesday', 'Wednesday', 'Sunday']\n",
      "['Monday', 'Tuesday', 'Wednesday', 'Sunday', 'Friday']\n",
      "['Monday', 'Thursday', 'Tuesday', 'Wednesday', 'Sunday', 'Friday']\n"
     ]
    }
   ],
   "source": [
    "# insert operations\n",
    "list1 = [\"Monday\", \"Tuesday\", \"Wednesday\"]\n",
    "print (list1, len(list1))\n",
    "list1.append(\"Sunday\")\n",
    "print (list1)\n",
    "list1.append(\"Friday\")\n",
    "print (list1)\n",
    "list1.insert(1, \"Thursday\")\n",
    "print (list1)"
   ]
  },
  {
   "cell_type": "code",
   "execution_count": 81,
   "id": "8f14c190-b8ab-48ef-9fa1-5cb8cf9b409e",
   "metadata": {},
   "outputs": [
    {
     "name": "stdout",
     "output_type": "stream",
     "text": [
      "['Monday', 'Tuesday', 'Wednesday', 'Sunday', 'Friday'] 5\n",
      "Friday\n",
      "['Monday', 'Tuesday', 'Wednesday', 'Sunday'] 4\n",
      "Sunday\n",
      "['Monday', 'Tuesday', 'Wednesday'] 3\n",
      "Wednesday\n"
     ]
    }
   ],
   "source": [
    "# delete operations\n",
    "list1 = [\"Monday\", \"Tuesday\", \"Wednesday\", 'Sunday', 'Friday']\n",
    "print (list1, len(list1))\n",
    "print (list1.pop())\n",
    "print (list1, len(list1))\n",
    "print (list1.pop())\n",
    "print (list1, len(list1))\n",
    "print (list1.pop())"
   ]
  },
  {
   "cell_type": "code",
   "execution_count": 72,
   "id": "afe31e6e-ae2b-4d3e-8d34-7481c65aa2bd",
   "metadata": {},
   "outputs": [
    {
     "name": "stdout",
     "output_type": "stream",
     "text": [
      "['Monday', 'Tuesday', 'Wednesday', 'Sunday', 'Friday'] 5\n",
      "Tuesday\n",
      "['Monday', 'Wednesday', 'Sunday', 'Friday'] 4\n",
      "Sunday\n",
      "['Monday', 'Wednesday', 'Friday'] 3\n",
      "Monday\n",
      "['Wednesday', 'Friday'] 2\n"
     ]
    }
   ],
   "source": [
    "list1 = [\"Monday\", \"Tuesday\", \"Wednesday\", 'Sunday', 'Friday']\n",
    "print (list1, len(list1))\n",
    "print (list1.pop(1))\n",
    "print (list1, len(list1))\n",
    "print (list1.pop(2))\n",
    "print (list1, len(list1))\n",
    "print (list1.pop(0))\n",
    "print (list1, len(list1))"
   ]
  },
  {
   "cell_type": "code",
   "execution_count": 75,
   "id": "53ee4d1a-f6a2-4f3f-817e-13fe7687e635",
   "metadata": {},
   "outputs": [
    {
     "name": "stdout",
     "output_type": "stream",
     "text": [
      "['Monday', 'Tuesday', 'Wednesday', 'Sunday', 'Friday'] 5\n",
      "[] 0\n"
     ]
    }
   ],
   "source": [
    "list1 = [\"Monday\", \"Tuesday\", \"Wednesday\", 'Sunday', 'Friday']\n",
    "print (list1, len(list1))\n",
    "list1.clear()\n",
    "print (list1, len(list1))"
   ]
  },
  {
   "cell_type": "code",
   "execution_count": 77,
   "id": "461da2a6-6780-4845-842b-489e44c7857d",
   "metadata": {},
   "outputs": [
    {
     "name": "stdout",
     "output_type": "stream",
     "text": [
      "['Monday', 'Tuesday', 'Wednesday', 'Sunday', 'Friday'] 5\n",
      "['Monday', 'Tuesday', 'Wednesday', 'Sunday'] 4\n",
      "['Monday', 'Wednesday', 'Sunday'] 3\n"
     ]
    }
   ],
   "source": [
    "list1 = [\"Monday\", \"Tuesday\", \"Wednesday\", 'Sunday', 'Friday']\n",
    "print (list1, len(list1))\n",
    "list1.remove('Friday')\n",
    "print (list1, len(list1))\n",
    "list1.remove('Tuesday')\n",
    "print (list1, len(list1))"
   ]
  },
  {
   "cell_type": "code",
   "execution_count": 78,
   "id": "2a45fe41-d7e0-4c70-983c-22307b9aba28",
   "metadata": {},
   "outputs": [
    {
     "name": "stdout",
     "output_type": "stream",
     "text": [
      "['Monday', 'Tuesday', 'Wednesday', 'Sunday', 'Friday'] 5\n",
      "['Monday', 'Tuesday', 'Sunday', 'Friday'] 4\n",
      "['Monday', 'Tuesday', 'Sunday'] 3\n"
     ]
    }
   ],
   "source": [
    "list1 = [\"Monday\", \"Tuesday\", \"Wednesday\", 'Sunday', 'Friday']\n",
    "print (list1, len(list1))\n",
    "del list1[2]\n",
    "print (list1, len(list1))\n",
    "del list1[3]\n",
    "print (list1, len(list1))"
   ]
  },
  {
   "cell_type": "code",
   "execution_count": 79,
   "id": "86f1a50f-decf-4718-8dca-550f28ebd2ea",
   "metadata": {},
   "outputs": [
    {
     "name": "stdout",
     "output_type": "stream",
     "text": [
      "['Monday', 'Tuesday', 'Wednesday', 'Sunday', 'Friday'] 5\n"
     ]
    },
    {
     "ename": "NameError",
     "evalue": "name 'list1' is not defined",
     "output_type": "error",
     "traceback": [
      "\u001b[1;31m---------------------------------------------------------------------------\u001b[0m",
      "\u001b[1;31mNameError\u001b[0m                                 Traceback (most recent call last)",
      "Cell \u001b[1;32mIn[79], line 4\u001b[0m\n\u001b[0;32m      2\u001b[0m \u001b[38;5;28mprint\u001b[39m (list1, \u001b[38;5;28mlen\u001b[39m(list1))\n\u001b[0;32m      3\u001b[0m \u001b[38;5;28;01mdel\u001b[39;00m list1\n\u001b[1;32m----> 4\u001b[0m \u001b[38;5;28mprint\u001b[39m (\u001b[43mlist1\u001b[49m, \u001b[38;5;28mlen\u001b[39m(list1))\n",
      "\u001b[1;31mNameError\u001b[0m: name 'list1' is not defined"
     ]
    }
   ],
   "source": [
    "list1 = [\"Monday\", \"Tuesday\", \"Wednesday\", 'Sunday', 'Friday']\n",
    "print (list1, len(list1))\n",
    "del list1\n",
    "print (list1, len(list1))"
   ]
  },
  {
   "cell_type": "code",
   "execution_count": 83,
   "id": "e8196e41-63c7-423c-ba55-af9c2aa1a3f5",
   "metadata": {},
   "outputs": [
    {
     "name": "stdout",
     "output_type": "stream",
     "text": [
      "['Monday', 'Tuesday', 'Wednesday', 'Sunday', 'Friday'] 5\n",
      "['Monday', 'Tuesday', 'Wed', 'Sunday', 'Friday'] 5\n"
     ]
    }
   ],
   "source": [
    "list1 = [\"Monday\", \"Tuesday\", \"Wednesday\", 'Sunday', 'Friday']\n",
    "print (list1, len(list1))\n",
    "list1[2] = \"Wed\"\n",
    "print (list1, len(list1))"
   ]
  },
  {
   "cell_type": "code",
   "execution_count": 85,
   "id": "c105c0f5-e321-43e4-b2df-858ce1e5029c",
   "metadata": {},
   "outputs": [
    {
     "name": "stdout",
     "output_type": "stream",
     "text": [
      "['Monday', 'Tuesday', 'Wednesday', 'Sunday', 'Friday'] 5\n",
      "['Friday', 'Sunday', 'Wednesday', 'Tuesday', 'Monday'] 5\n"
     ]
    }
   ],
   "source": [
    "list1 = [\"Monday\", \"Tuesday\", \"Wednesday\", 'Sunday', 'Friday']\n",
    "print (list1, len(list1))\n",
    "list1.reverse()\n",
    "print (list1, len(list1))"
   ]
  },
  {
   "cell_type": "code",
   "execution_count": 86,
   "id": "230d149a-565f-44bf-bf9c-da699b311f91",
   "metadata": {},
   "outputs": [
    {
     "name": "stdout",
     "output_type": "stream",
     "text": [
      "['Monday', 'Tuesday', 'Wednesday', 'Sunday', 'Friday'] 5\n",
      "['Friday', 'Monday', 'Sunday', 'Tuesday', 'Wednesday']\n"
     ]
    }
   ],
   "source": [
    "list1 = [\"Monday\", \"Tuesday\", \"Wednesday\", 'Sunday', 'Friday']\n",
    "print (list1, len(list1))\n",
    "list1.sort()\n",
    "print (list1)"
   ]
  },
  {
   "cell_type": "code",
   "execution_count": 87,
   "id": "32dd8be4-4717-449d-933d-14b23c0204ed",
   "metadata": {},
   "outputs": [
    {
     "name": "stdout",
     "output_type": "stream",
     "text": [
      "['Monday', 'Tuesday', 'Wednesday', 'Sunday', 'Friday'] 5\n",
      "['Wednesday', 'Tuesday', 'Sunday', 'Monday', 'Friday']\n"
     ]
    }
   ],
   "source": [
    "list1 = [\"Monday\", \"Tuesday\", \"Wednesday\", 'Sunday', 'Friday']\n",
    "print (list1, len(list1))\n",
    "list1.sort(reverse=True)\n",
    "print (list1)"
   ]
  },
  {
   "cell_type": "code",
   "execution_count": 91,
   "id": "b8459b6e-196e-41a7-a0de-f420bde09627",
   "metadata": {},
   "outputs": [
    {
     "name": "stdout",
     "output_type": "stream",
     "text": [
      "['Monday', 'Tuesday', 'Wednesday', 'Sunday', 'Friday'] 5\n",
      "['Friday', 'Monday', 'Sunday', 'Tuesday', 'Wednesday']\n",
      "['Monday', 'Tuesday', 'Wednesday', 'Sunday', 'Friday'] 5\n",
      "['Wednesday', 'Tuesday', 'Sunday', 'Monday', 'Friday']\n"
     ]
    }
   ],
   "source": [
    "list1 = [\"Monday\", \"Tuesday\", \"Wednesday\", 'Sunday', 'Friday']\n",
    "print (list1, len(list1))\n",
    "print (sorted(list1))\n",
    "print (list1, len(list1))\n",
    "print (sorted(list1, reverse=True))"
   ]
  },
  {
   "cell_type": "code",
   "execution_count": 94,
   "id": "ecd6ee64-d2cf-4069-a867-3f012fd1a7a9",
   "metadata": {},
   "outputs": [
    {
     "name": "stdout",
     "output_type": "stream",
     "text": [
      "charity begins at home\n",
      "['charity', 'begins', 'at', 'home']\n",
      "charity begins at home\n"
     ]
    }
   ],
   "source": [
    "mystr = \"charity begins at home\"\n",
    "print (mystr)\n",
    "list1 = mystr.split()\n",
    "print (list1)\n",
    "mystr1 = \" \".join(list1)\n",
    "print (mystr1)"
   ]
  },
  {
   "cell_type": "code",
   "execution_count": null,
   "id": "cd6c0387-122c-496c-817f-e6c9d14839a7",
   "metadata": {},
   "outputs": [],
   "source": [
    "help(str)"
   ]
  },
  {
   "cell_type": "code",
   "execution_count": 96,
   "id": "6c35b2c9-6977-49fe-880b-7d2ef873749c",
   "metadata": {},
   "outputs": [
    {
     "name": "stdout",
     "output_type": "stream",
     "text": [
      "Good Morning\n",
      "Good Night\n"
     ]
    }
   ],
   "source": [
    "mystr = \"Good Morning\"\n",
    "print (mystr)\n",
    "mystr = mystr.replace(\"Morning\", \"Night\")\n",
    "print (mystr)"
   ]
  },
  {
   "cell_type": "markdown",
   "id": "f2123ebc-d7e7-4288-96eb-20e0f83816c9",
   "metadata": {},
   "source": [
    "### Tuple Proessing"
   ]
  },
  {
   "cell_type": "code",
   "execution_count": 46,
   "id": "b352bcb4-1ab1-4dc1-8376-9297d257d2ce",
   "metadata": {},
   "outputs": [
    {
     "name": "stdout",
     "output_type": "stream",
     "text": [
      "('Mon', 'Tue', 'Thus', 'Sat', 'Fri') 5\n",
      "Tue Fri\n"
     ]
    }
   ],
   "source": [
    "tuple1 = (\"Mon\", \"Tue\", \"Thus\", \"Sat\", \"Fri\")\n",
    "print (tuple1, len(tuple1))\n",
    "print (max(tuple1), min(tuple1))"
   ]
  },
  {
   "cell_type": "code",
   "execution_count": 50,
   "id": "8f8ea099-44c1-4f04-9e0e-57f0ec606ac4",
   "metadata": {},
   "outputs": [
    {
     "name": "stdout",
     "output_type": "stream",
     "text": [
      "(100, 400, 200, 300, 500) 5\n",
      "500 100\n",
      "1500 300.0\n"
     ]
    }
   ],
   "source": [
    "tuple1 = (100, 400, 200, 300, 500)\n",
    "print (tuple1, len(tuple1))\n",
    "print (max(tuple1), min(tuple1))\n",
    "print (sum(tuple1), sum(tuple1) / len(tuple1))"
   ]
  },
  {
   "cell_type": "code",
   "execution_count": 52,
   "id": "2fe499a1-acf3-4f64-b247-a1b7c86f3cb7",
   "metadata": {},
   "outputs": [
    {
     "name": "stdout",
     "output_type": "stream",
     "text": [
      "(100, 400, 'Rupam', 200, 'USA', 300, 500) 7\n"
     ]
    },
    {
     "ename": "TypeError",
     "evalue": "'>' not supported between instances of 'str' and 'int'",
     "output_type": "error",
     "traceback": [
      "\u001b[1;31m---------------------------------------------------------------------------\u001b[0m",
      "\u001b[1;31mTypeError\u001b[0m                                 Traceback (most recent call last)",
      "Cell \u001b[1;32mIn[52], line 3\u001b[0m\n\u001b[0;32m      1\u001b[0m tuple1 \u001b[38;5;241m=\u001b[39m (\u001b[38;5;241m100\u001b[39m, \u001b[38;5;241m400\u001b[39m, \u001b[38;5;124m\"\u001b[39m\u001b[38;5;124mRupam\u001b[39m\u001b[38;5;124m\"\u001b[39m, \u001b[38;5;241m200\u001b[39m, \u001b[38;5;124m\"\u001b[39m\u001b[38;5;124mUSA\u001b[39m\u001b[38;5;124m\"\u001b[39m, \u001b[38;5;241m300\u001b[39m, \u001b[38;5;241m500\u001b[39m)\n\u001b[0;32m      2\u001b[0m \u001b[38;5;28mprint\u001b[39m (tuple1, \u001b[38;5;28mlen\u001b[39m(tuple1))\n\u001b[1;32m----> 3\u001b[0m \u001b[38;5;28mprint\u001b[39m (\u001b[38;5;28;43mmax\u001b[39;49m\u001b[43m(\u001b[49m\u001b[43mtuple1\u001b[49m\u001b[43m)\u001b[49m, \u001b[38;5;28mmin\u001b[39m(tuple1))\n\u001b[0;32m      4\u001b[0m \u001b[38;5;28mprint\u001b[39m (\u001b[38;5;28msum\u001b[39m(tuple1), \u001b[38;5;28msum\u001b[39m(tuple1) \u001b[38;5;241m/\u001b[39m \u001b[38;5;28mlen\u001b[39m(tuple1))\n",
      "\u001b[1;31mTypeError\u001b[0m: '>' not supported between instances of 'str' and 'int'"
     ]
    }
   ],
   "source": [
    "tuple1 = (100, 400, \"Rupam\", 200, \"USA\", 300, 500)\n",
    "print (tuple1, len(tuple1))\n",
    "print (max(tuple1), min(tuple1))\n",
    "print (sum(tuple1), sum(tuple1) / len(tuple1))"
   ]
  },
  {
   "cell_type": "code",
   "execution_count": 55,
   "id": "7537ed32-1cee-4cc5-9587-b70e0dbcbf8b",
   "metadata": {},
   "outputs": [
    {
     "name": "stdout",
     "output_type": "stream",
     "text": [
      "(100, 400, 200, 300, 500) 5\n",
      "(400, 200, 300) (400, 200, 300)\n",
      "(400, 200, 300) (400, 200, 300)\n"
     ]
    }
   ],
   "source": [
    "# Index   0    1    2    3    4\n",
    "tuple1 = (100, 400, 200, 300, 500)\n",
    "print (tuple1, len(tuple1))\n",
    "print (tuple1[1:4], tuple1[1:-1])\n",
    "print (tuple1[-4:-1], tuple1[-4:4])"
   ]
  },
  {
   "cell_type": "code",
   "execution_count": 70,
   "id": "c82d5376-d7f2-47b3-8710-4537688c534c",
   "metadata": {},
   "outputs": [
    {
     "name": "stdout",
     "output_type": "stream",
     "text": [
      "('Monday', 'Tuesday', 'Wednesday')\n",
      "('Friday', 'Thursday')\n",
      "('Monday', 'Tuesday', 'Wednesday', 'Friday', 'Thursday')\n",
      "(('Monday', 'Tuesday', 'Wednesday'), ('Friday', 'Thursday'))\n"
     ]
    }
   ],
   "source": [
    "tuple1 = (\"Monday\", \"Tuesday\", \"Wednesday\")\n",
    "tuple2 = (\"Friday\", \"Thursday\")\n",
    "print (tuple1)\n",
    "print (tuple2)\n",
    "print (tuple1 + tuple2)\n",
    "print ((tuple1, tuple2))"
   ]
  },
  {
   "cell_type": "code",
   "execution_count": null,
   "id": "47144ad2-f701-43a1-9a96-cdb526204bfb",
   "metadata": {},
   "outputs": [],
   "source": []
  },
  {
   "cell_type": "code",
   "execution_count": null,
   "id": "1e1ed9e2-651d-43ef-8b02-76cdbba3c828",
   "metadata": {},
   "outputs": [],
   "source": []
  },
  {
   "cell_type": "code",
   "execution_count": null,
   "id": "b7eeae20-7793-4651-b90e-4bb7d61e7b58",
   "metadata": {},
   "outputs": [],
   "source": []
  },
  {
   "cell_type": "code",
   "execution_count": null,
   "id": "1291737a-418f-4ef3-aeaf-c03ca018c2ef",
   "metadata": {},
   "outputs": [],
   "source": []
  },
  {
   "cell_type": "code",
   "execution_count": null,
   "id": "30006e80-8c45-4ae3-a1ac-9de737cedad2",
   "metadata": {},
   "outputs": [],
   "source": []
  },
  {
   "cell_type": "code",
   "execution_count": null,
   "id": "026102e0-b168-4fec-9d0e-51cc0443a918",
   "metadata": {},
   "outputs": [],
   "source": []
  },
  {
   "cell_type": "code",
   "execution_count": null,
   "id": "f0d0048c-18c1-42bb-8721-c825450129f5",
   "metadata": {},
   "outputs": [],
   "source": []
  }
 ],
 "metadata": {
  "kernelspec": {
   "display_name": "Python 3 (ipykernel)",
   "language": "python",
   "name": "python3"
  },
  "language_info": {
   "codemirror_mode": {
    "name": "ipython",
    "version": 3
   },
   "file_extension": ".py",
   "mimetype": "text/x-python",
   "name": "python",
   "nbconvert_exporter": "python",
   "pygments_lexer": "ipython3",
   "version": "3.10.9"
  }
 },
 "nbformat": 4,
 "nbformat_minor": 5
}
