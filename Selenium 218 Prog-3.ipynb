{
 "cells": [
  {
   "cell_type": "markdown",
   "id": "d864f383-1da6-4edc-bc60-c37e8d086d10",
   "metadata": {},
   "source": [
    "## Selenium Code Example - 3"
   ]
  },
  {
   "cell_type": "markdown",
   "id": "0662f106-c235-4add-8384-2c1a11bea61f",
   "metadata": {},
   "source": [
    "### Selenium control options to write text, button press, dropdown list, checkbox and others"
   ]
  },
  {
   "cell_type": "code",
   "execution_count": 1,
   "id": "a98e6db6-636a-42f8-889d-3f27727b705a",
   "metadata": {},
   "outputs": [],
   "source": [
    "# importing all the required modules\n",
    "from selenium import webdriver\n",
    "from selenium.webdriver.chrome.service import Service"
   ]
  },
  {
   "cell_type": "code",
   "execution_count": 2,
   "id": "a991f828-565d-451a-a7c0-cdc343bfc60c",
   "metadata": {},
   "outputs": [
    {
     "name": "stdout",
     "output_type": "stream",
     "text": [
      "4.10.0\n"
     ]
    }
   ],
   "source": [
    "# printing the current version of selenium\n",
    "print (webdriver.__version__)"
   ]
  },
  {
   "cell_type": "code",
   "execution_count": 3,
   "id": "8e992854-5559-42dd-897f-7eb398568b03",
   "metadata": {},
   "outputs": [],
   "source": [
    "# chromedriver.exe should remain available at the current path\n",
    "service = Service(executable_path=\"./chromedriver.exe\")\n",
    "options = webdriver.ChromeOptions()\n",
    "driver = webdriver.Chrome(service=service, options=options)"
   ]
  },
  {
   "cell_type": "code",
   "execution_count": 4,
   "id": "adf7576d-c800-4470-869e-7c2290b33d13",
   "metadata": {},
   "outputs": [],
   "source": [
    "# now we shall open one web portal for currency conversion calculations\n",
    "driver.get(\"https://www.calculator.net/currency-calculator.html\")"
   ]
  },
  {
   "cell_type": "code",
   "execution_count": 5,
   "id": "617ebbd4-ad66-4b62-b614-0de4c9bfd604",
   "metadata": {},
   "outputs": [],
   "source": [
    "# import select and checkbox from selenium library to get HTML slect tags\n",
    "from selenium.webdriver.support.ui import Select"
   ]
  },
  {
   "cell_type": "code",
   "execution_count": 7,
   "id": "db642598-a3af-4ade-a6fe-87705c148260",
   "metadata": {},
   "outputs": [],
   "source": [
    "# now select the FROM currency as INR and TO currency as USD from the drop down list\n",
    "from_currency = Select(driver.find_element(\"id\", \"efrom\"))\n",
    "from_currency.select_by_visible_text(\"INR: Indian Rupee\")   # text visible to the user"
   ]
  },
  {
   "cell_type": "code",
   "execution_count": 8,
   "id": "a28efcb7-3d9a-4453-b78c-1e83b2d58d76",
   "metadata": {},
   "outputs": [],
   "source": [
    "to_currency = Select(driver.find_element(\"id\", \"eto\"))\n",
    "to_currency.select_by_value(\"USD\")"
   ]
  },
  {
   "cell_type": "code",
   "execution_count": 11,
   "id": "48f4b067-cc38-40cc-953a-54d9c00fd78e",
   "metadata": {},
   "outputs": [],
   "source": [
    "# put the amount as 500\n",
    "amount_textbox = driver.find_element(\"id\", \"eamount\")\n",
    "# clear the textbox at first and then put the amount value as 500\n",
    "amount_textbox.clear()\n",
    "amount_textbox.send_keys(\"500\")"
   ]
  },
  {
   "cell_type": "code",
   "execution_count": 12,
   "id": "5c8db810-6931-411e-b84b-457fba99bc62",
   "metadata": {},
   "outputs": [],
   "source": [
    "# now click on the calculate command button\n",
    "calculate_button = driver.find_element(\"xpath\", '//*[@id=\"standard\"]/tbody/tr[5]/td[2]/input[2]')\n",
    "calculate_button.click()"
   ]
  },
  {
   "cell_type": "code",
   "execution_count": 16,
   "id": "0e0428d5-a020-4d85-aa8c-ea3d0aae999d",
   "metadata": {},
   "outputs": [],
   "source": [
    "checkbox = driver.find_element('xpath', '//*[@id=\"ccmajorccsettingbox\"]')\n",
    "# if this checkbox is already checked then uncheck it by the help of the java script\n",
    "if checkbox.is_selected():\n",
    "    driver.execute_script(\"arguments[0].click()\", checkbox)"
   ]
  },
  {
   "cell_type": "code",
   "execution_count": 17,
   "id": "d024f3b3-22a7-47ed-b1eb-864d2d3a5e63",
   "metadata": {},
   "outputs": [],
   "source": [
    "# change the from currency text to \"ZWL: Zimbabwean Dollar\"\n",
    "from_currency = Select(driver.find_element(\"id\", \"efrom\"))\n",
    "from_currency.select_by_value(\"ZWL\")"
   ]
  },
  {
   "cell_type": "code",
   "execution_count": 19,
   "id": "76694925-9726-4d57-92df-022bf04bba45",
   "metadata": {},
   "outputs": [],
   "source": [
    "# change the to currency text to \"ZWL: Zimbabwean Dollar\"\n",
    "to_currency = Select(driver.find_element(\"id\", \"eto\"))\n",
    "to_currency.select_by_value(\"ZMW\")"
   ]
  },
  {
   "cell_type": "code",
   "execution_count": 20,
   "id": "cfbadcf9-a44f-4864-9d69-5406cdf8c905",
   "metadata": {},
   "outputs": [],
   "source": [
    "# clear the textbox field and then put the amount 1000\n",
    "amount_textbox = driver.find_element(\"id\", \"eamount\")\n",
    "amount_textbox.clear()\n",
    "amount_textbox.send_keys(\"1000\")"
   ]
  },
  {
   "cell_type": "code",
   "execution_count": 21,
   "id": "39d95ce1-c1fd-4032-aace-decfb2eccd86",
   "metadata": {},
   "outputs": [],
   "source": [
    "# now click on the calculate command button\n",
    "calculate_button = driver.find_element(\"xpath\", '//*[@id=\"standard\"]/tbody/tr[5]/td[2]/input[2]')\n",
    "calculate_button.click()"
   ]
  },
  {
   "cell_type": "code",
   "execution_count": 22,
   "id": "e420984b-b115-4b92-82f9-6c69516da917",
   "metadata": {},
   "outputs": [],
   "source": [
    "driver.quit()"
   ]
  },
  {
   "cell_type": "code",
   "execution_count": null,
   "id": "1d92e0e3-895c-4293-8262-aa195e5e6f5a",
   "metadata": {},
   "outputs": [],
   "source": []
  }
 ],
 "metadata": {
  "kernelspec": {
   "display_name": "Python 3 (ipykernel)",
   "language": "python",
   "name": "python3"
  },
  "language_info": {
   "codemirror_mode": {
    "name": "ipython",
    "version": 3
   },
   "file_extension": ".py",
   "mimetype": "text/x-python",
   "name": "python",
   "nbconvert_exporter": "python",
   "pygments_lexer": "ipython3",
   "version": "3.10.9"
  }
 },
 "nbformat": 4,
 "nbformat_minor": 5
}
